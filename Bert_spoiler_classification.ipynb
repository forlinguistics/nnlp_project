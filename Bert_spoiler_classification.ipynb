{
  "cells": [
    {
      "cell_type": "markdown",
      "source": [
        "# Исследование данных"
      ],
      "metadata": {
        "id": "meMymOlDViio"
      }
    },
    {
      "cell_type": "code",
      "source": [
        "movie_details.head()"
      ],
      "metadata": {
        "colab": {
          "base_uri": "https://localhost:8080/",
          "height": 206
        },
        "id": "msmNPvp_TuVz",
        "outputId": "d9446116-6bac-4e30-bdfb-fd69bded4b7d"
      },
      "execution_count": null,
      "outputs": [
        {
          "output_type": "execute_result",
          "data": {
            "text/plain": [
              "    movie_id                                       plot_summary  duration  \\\n",
              "0  tt0105112  Former CIA analyst, Jack Ryan is in England wi...  1h 57min   \n",
              "1  tt1204975  Billy (Michael Douglas), Paddy (Robert De Niro...  1h 45min   \n",
              "2  tt0243655  The setting is Camp Firewood, the year 1981. I...  1h 37min   \n",
              "3  tt0040897  Fred C. Dobbs and Bob Curtin, both down on the...   2h 6min   \n",
              "4  tt0126886  Tracy Flick is running unopposed for this year...  1h 43min   \n",
              "\n",
              "                         genre  rating release_date  \\\n",
              "0           [Action, Thriller]     6.9   1992-06-05   \n",
              "1                     [Comedy]     6.6   2013-11-01   \n",
              "2            [Comedy, Romance]     6.7   2002-04-11   \n",
              "3  [Adventure, Drama, Western]     8.3   1948-01-24   \n",
              "4     [Comedy, Drama, Romance]     7.3   1999-05-07   \n",
              "\n",
              "                                       plot_synopsis  \n",
              "0  Jack Ryan (Ford) is on a \"working vacation\" in...  \n",
              "1  Four boys around the age of 10 are friends in ...  \n",
              "2                                                     \n",
              "3  Fred Dobbs (Humphrey Bogart) and Bob Curtin (T...  \n",
              "4  Jim McAllister (Matthew Broderick) is a much-a...  "
            ],
            "text/html": [
              "\n",
              "  <div id=\"df-37f78e30-715a-4581-91f7-850091b7f645\">\n",
              "    <div class=\"colab-df-container\">\n",
              "      <div>\n",
              "<style scoped>\n",
              "    .dataframe tbody tr th:only-of-type {\n",
              "        vertical-align: middle;\n",
              "    }\n",
              "\n",
              "    .dataframe tbody tr th {\n",
              "        vertical-align: top;\n",
              "    }\n",
              "\n",
              "    .dataframe thead th {\n",
              "        text-align: right;\n",
              "    }\n",
              "</style>\n",
              "<table border=\"1\" class=\"dataframe\">\n",
              "  <thead>\n",
              "    <tr style=\"text-align: right;\">\n",
              "      <th></th>\n",
              "      <th>movie_id</th>\n",
              "      <th>plot_summary</th>\n",
              "      <th>duration</th>\n",
              "      <th>genre</th>\n",
              "      <th>rating</th>\n",
              "      <th>release_date</th>\n",
              "      <th>plot_synopsis</th>\n",
              "    </tr>\n",
              "  </thead>\n",
              "  <tbody>\n",
              "    <tr>\n",
              "      <th>0</th>\n",
              "      <td>tt0105112</td>\n",
              "      <td>Former CIA analyst, Jack Ryan is in England wi...</td>\n",
              "      <td>1h 57min</td>\n",
              "      <td>[Action, Thriller]</td>\n",
              "      <td>6.9</td>\n",
              "      <td>1992-06-05</td>\n",
              "      <td>Jack Ryan (Ford) is on a \"working vacation\" in...</td>\n",
              "    </tr>\n",
              "    <tr>\n",
              "      <th>1</th>\n",
              "      <td>tt1204975</td>\n",
              "      <td>Billy (Michael Douglas), Paddy (Robert De Niro...</td>\n",
              "      <td>1h 45min</td>\n",
              "      <td>[Comedy]</td>\n",
              "      <td>6.6</td>\n",
              "      <td>2013-11-01</td>\n",
              "      <td>Four boys around the age of 10 are friends in ...</td>\n",
              "    </tr>\n",
              "    <tr>\n",
              "      <th>2</th>\n",
              "      <td>tt0243655</td>\n",
              "      <td>The setting is Camp Firewood, the year 1981. I...</td>\n",
              "      <td>1h 37min</td>\n",
              "      <td>[Comedy, Romance]</td>\n",
              "      <td>6.7</td>\n",
              "      <td>2002-04-11</td>\n",
              "      <td></td>\n",
              "    </tr>\n",
              "    <tr>\n",
              "      <th>3</th>\n",
              "      <td>tt0040897</td>\n",
              "      <td>Fred C. Dobbs and Bob Curtin, both down on the...</td>\n",
              "      <td>2h 6min</td>\n",
              "      <td>[Adventure, Drama, Western]</td>\n",
              "      <td>8.3</td>\n",
              "      <td>1948-01-24</td>\n",
              "      <td>Fred Dobbs (Humphrey Bogart) and Bob Curtin (T...</td>\n",
              "    </tr>\n",
              "    <tr>\n",
              "      <th>4</th>\n",
              "      <td>tt0126886</td>\n",
              "      <td>Tracy Flick is running unopposed for this year...</td>\n",
              "      <td>1h 43min</td>\n",
              "      <td>[Comedy, Drama, Romance]</td>\n",
              "      <td>7.3</td>\n",
              "      <td>1999-05-07</td>\n",
              "      <td>Jim McAllister (Matthew Broderick) is a much-a...</td>\n",
              "    </tr>\n",
              "  </tbody>\n",
              "</table>\n",
              "</div>\n",
              "      <button class=\"colab-df-convert\" onclick=\"convertToInteractive('df-37f78e30-715a-4581-91f7-850091b7f645')\"\n",
              "              title=\"Convert this dataframe to an interactive table.\"\n",
              "              style=\"display:none;\">\n",
              "        \n",
              "  <svg xmlns=\"http://www.w3.org/2000/svg\" height=\"24px\"viewBox=\"0 0 24 24\"\n",
              "       width=\"24px\">\n",
              "    <path d=\"M0 0h24v24H0V0z\" fill=\"none\"/>\n",
              "    <path d=\"M18.56 5.44l.94 2.06.94-2.06 2.06-.94-2.06-.94-.94-2.06-.94 2.06-2.06.94zm-11 1L8.5 8.5l.94-2.06 2.06-.94-2.06-.94L8.5 2.5l-.94 2.06-2.06.94zm10 10l.94 2.06.94-2.06 2.06-.94-2.06-.94-.94-2.06-.94 2.06-2.06.94z\"/><path d=\"M17.41 7.96l-1.37-1.37c-.4-.4-.92-.59-1.43-.59-.52 0-1.04.2-1.43.59L10.3 9.45l-7.72 7.72c-.78.78-.78 2.05 0 2.83L4 21.41c.39.39.9.59 1.41.59.51 0 1.02-.2 1.41-.59l7.78-7.78 2.81-2.81c.8-.78.8-2.07 0-2.86zM5.41 20L4 18.59l7.72-7.72 1.47 1.35L5.41 20z\"/>\n",
              "  </svg>\n",
              "      </button>\n",
              "      \n",
              "  <style>\n",
              "    .colab-df-container {\n",
              "      display:flex;\n",
              "      flex-wrap:wrap;\n",
              "      gap: 12px;\n",
              "    }\n",
              "\n",
              "    .colab-df-convert {\n",
              "      background-color: #E8F0FE;\n",
              "      border: none;\n",
              "      border-radius: 50%;\n",
              "      cursor: pointer;\n",
              "      display: none;\n",
              "      fill: #1967D2;\n",
              "      height: 32px;\n",
              "      padding: 0 0 0 0;\n",
              "      width: 32px;\n",
              "    }\n",
              "\n",
              "    .colab-df-convert:hover {\n",
              "      background-color: #E2EBFA;\n",
              "      box-shadow: 0px 1px 2px rgba(60, 64, 67, 0.3), 0px 1px 3px 1px rgba(60, 64, 67, 0.15);\n",
              "      fill: #174EA6;\n",
              "    }\n",
              "\n",
              "    [theme=dark] .colab-df-convert {\n",
              "      background-color: #3B4455;\n",
              "      fill: #D2E3FC;\n",
              "    }\n",
              "\n",
              "    [theme=dark] .colab-df-convert:hover {\n",
              "      background-color: #434B5C;\n",
              "      box-shadow: 0px 1px 3px 1px rgba(0, 0, 0, 0.15);\n",
              "      filter: drop-shadow(0px 1px 2px rgba(0, 0, 0, 0.3));\n",
              "      fill: #FFFFFF;\n",
              "    }\n",
              "  </style>\n",
              "\n",
              "      <script>\n",
              "        const buttonEl =\n",
              "          document.querySelector('#df-37f78e30-715a-4581-91f7-850091b7f645 button.colab-df-convert');\n",
              "        buttonEl.style.display =\n",
              "          google.colab.kernel.accessAllowed ? 'block' : 'none';\n",
              "\n",
              "        async function convertToInteractive(key) {\n",
              "          const element = document.querySelector('#df-37f78e30-715a-4581-91f7-850091b7f645');\n",
              "          const dataTable =\n",
              "            await google.colab.kernel.invokeFunction('convertToInteractive',\n",
              "                                                     [key], {});\n",
              "          if (!dataTable) return;\n",
              "\n",
              "          const docLinkHtml = 'Like what you see? Visit the ' +\n",
              "            '<a target=\"_blank\" href=https://colab.research.google.com/notebooks/data_table.ipynb>data table notebook</a>'\n",
              "            + ' to learn more about interactive tables.';\n",
              "          element.innerHTML = '';\n",
              "          dataTable['output_type'] = 'display_data';\n",
              "          await google.colab.output.renderOutput(dataTable, element);\n",
              "          const docLink = document.createElement('div');\n",
              "          docLink.innerHTML = docLinkHtml;\n",
              "          element.appendChild(docLink);\n",
              "        }\n",
              "      </script>\n",
              "    </div>\n",
              "  </div>\n",
              "  "
            ]
          },
          "metadata": {},
          "execution_count": 30
        }
      ]
    },
    {
      "cell_type": "code",
      "source": [
        "reviews.head()"
      ],
      "metadata": {
        "colab": {
          "base_uri": "https://localhost:8080/",
          "height": 206
        },
        "id": "zx05LqQ_W0LH",
        "outputId": "813a6ae9-4653-47a3-fe6f-3af6ac99d280"
      },
      "execution_count": null,
      "outputs": [
        {
          "output_type": "execute_result",
          "data": {
            "text/plain": [
              "        review_date   movie_id    user_id  is_spoiler  \\\n",
              "0  10 February 2006  tt0111161  ur1898687        True   \n",
              "1  6 September 2000  tt0111161  ur0842118        True   \n",
              "2     3 August 2001  tt0111161  ur1285640        True   \n",
              "3  1 September 2002  tt0111161  ur1003471        True   \n",
              "4       20 May 2004  tt0111161  ur0226855        True   \n",
              "\n",
              "                                         review_text  rating  \\\n",
              "0  In its Oscar year, Shawshank Redemption (writt...      10   \n",
              "1  The Shawshank Redemption is without a doubt on...      10   \n",
              "2  I believe that this film is the best story eve...       8   \n",
              "3  **Yes, there are SPOILERS here**This film has ...      10   \n",
              "4  At the heart of this extraordinary movie is a ...       8   \n",
              "\n",
              "                                  review_summary  \n",
              "0  A classic piece of unforgettable film-making.  \n",
              "1     Simply amazing. The best film of the 90's.  \n",
              "2               The best story ever told on film  \n",
              "3                     Busy dying or busy living?  \n",
              "4         Great story, wondrously told and acted  "
            ],
            "text/html": [
              "\n",
              "  <div id=\"df-7852cb86-c4ea-4757-b08a-9d084ff91ac8\">\n",
              "    <div class=\"colab-df-container\">\n",
              "      <div>\n",
              "<style scoped>\n",
              "    .dataframe tbody tr th:only-of-type {\n",
              "        vertical-align: middle;\n",
              "    }\n",
              "\n",
              "    .dataframe tbody tr th {\n",
              "        vertical-align: top;\n",
              "    }\n",
              "\n",
              "    .dataframe thead th {\n",
              "        text-align: right;\n",
              "    }\n",
              "</style>\n",
              "<table border=\"1\" class=\"dataframe\">\n",
              "  <thead>\n",
              "    <tr style=\"text-align: right;\">\n",
              "      <th></th>\n",
              "      <th>review_date</th>\n",
              "      <th>movie_id</th>\n",
              "      <th>user_id</th>\n",
              "      <th>is_spoiler</th>\n",
              "      <th>review_text</th>\n",
              "      <th>rating</th>\n",
              "      <th>review_summary</th>\n",
              "    </tr>\n",
              "  </thead>\n",
              "  <tbody>\n",
              "    <tr>\n",
              "      <th>0</th>\n",
              "      <td>10 February 2006</td>\n",
              "      <td>tt0111161</td>\n",
              "      <td>ur1898687</td>\n",
              "      <td>True</td>\n",
              "      <td>In its Oscar year, Shawshank Redemption (writt...</td>\n",
              "      <td>10</td>\n",
              "      <td>A classic piece of unforgettable film-making.</td>\n",
              "    </tr>\n",
              "    <tr>\n",
              "      <th>1</th>\n",
              "      <td>6 September 2000</td>\n",
              "      <td>tt0111161</td>\n",
              "      <td>ur0842118</td>\n",
              "      <td>True</td>\n",
              "      <td>The Shawshank Redemption is without a doubt on...</td>\n",
              "      <td>10</td>\n",
              "      <td>Simply amazing. The best film of the 90's.</td>\n",
              "    </tr>\n",
              "    <tr>\n",
              "      <th>2</th>\n",
              "      <td>3 August 2001</td>\n",
              "      <td>tt0111161</td>\n",
              "      <td>ur1285640</td>\n",
              "      <td>True</td>\n",
              "      <td>I believe that this film is the best story eve...</td>\n",
              "      <td>8</td>\n",
              "      <td>The best story ever told on film</td>\n",
              "    </tr>\n",
              "    <tr>\n",
              "      <th>3</th>\n",
              "      <td>1 September 2002</td>\n",
              "      <td>tt0111161</td>\n",
              "      <td>ur1003471</td>\n",
              "      <td>True</td>\n",
              "      <td>**Yes, there are SPOILERS here**This film has ...</td>\n",
              "      <td>10</td>\n",
              "      <td>Busy dying or busy living?</td>\n",
              "    </tr>\n",
              "    <tr>\n",
              "      <th>4</th>\n",
              "      <td>20 May 2004</td>\n",
              "      <td>tt0111161</td>\n",
              "      <td>ur0226855</td>\n",
              "      <td>True</td>\n",
              "      <td>At the heart of this extraordinary movie is a ...</td>\n",
              "      <td>8</td>\n",
              "      <td>Great story, wondrously told and acted</td>\n",
              "    </tr>\n",
              "  </tbody>\n",
              "</table>\n",
              "</div>\n",
              "      <button class=\"colab-df-convert\" onclick=\"convertToInteractive('df-7852cb86-c4ea-4757-b08a-9d084ff91ac8')\"\n",
              "              title=\"Convert this dataframe to an interactive table.\"\n",
              "              style=\"display:none;\">\n",
              "        \n",
              "  <svg xmlns=\"http://www.w3.org/2000/svg\" height=\"24px\"viewBox=\"0 0 24 24\"\n",
              "       width=\"24px\">\n",
              "    <path d=\"M0 0h24v24H0V0z\" fill=\"none\"/>\n",
              "    <path d=\"M18.56 5.44l.94 2.06.94-2.06 2.06-.94-2.06-.94-.94-2.06-.94 2.06-2.06.94zm-11 1L8.5 8.5l.94-2.06 2.06-.94-2.06-.94L8.5 2.5l-.94 2.06-2.06.94zm10 10l.94 2.06.94-2.06 2.06-.94-2.06-.94-.94-2.06-.94 2.06-2.06.94z\"/><path d=\"M17.41 7.96l-1.37-1.37c-.4-.4-.92-.59-1.43-.59-.52 0-1.04.2-1.43.59L10.3 9.45l-7.72 7.72c-.78.78-.78 2.05 0 2.83L4 21.41c.39.39.9.59 1.41.59.51 0 1.02-.2 1.41-.59l7.78-7.78 2.81-2.81c.8-.78.8-2.07 0-2.86zM5.41 20L4 18.59l7.72-7.72 1.47 1.35L5.41 20z\"/>\n",
              "  </svg>\n",
              "      </button>\n",
              "      \n",
              "  <style>\n",
              "    .colab-df-container {\n",
              "      display:flex;\n",
              "      flex-wrap:wrap;\n",
              "      gap: 12px;\n",
              "    }\n",
              "\n",
              "    .colab-df-convert {\n",
              "      background-color: #E8F0FE;\n",
              "      border: none;\n",
              "      border-radius: 50%;\n",
              "      cursor: pointer;\n",
              "      display: none;\n",
              "      fill: #1967D2;\n",
              "      height: 32px;\n",
              "      padding: 0 0 0 0;\n",
              "      width: 32px;\n",
              "    }\n",
              "\n",
              "    .colab-df-convert:hover {\n",
              "      background-color: #E2EBFA;\n",
              "      box-shadow: 0px 1px 2px rgba(60, 64, 67, 0.3), 0px 1px 3px 1px rgba(60, 64, 67, 0.15);\n",
              "      fill: #174EA6;\n",
              "    }\n",
              "\n",
              "    [theme=dark] .colab-df-convert {\n",
              "      background-color: #3B4455;\n",
              "      fill: #D2E3FC;\n",
              "    }\n",
              "\n",
              "    [theme=dark] .colab-df-convert:hover {\n",
              "      background-color: #434B5C;\n",
              "      box-shadow: 0px 1px 3px 1px rgba(0, 0, 0, 0.15);\n",
              "      filter: drop-shadow(0px 1px 2px rgba(0, 0, 0, 0.3));\n",
              "      fill: #FFFFFF;\n",
              "    }\n",
              "  </style>\n",
              "\n",
              "      <script>\n",
              "        const buttonEl =\n",
              "          document.querySelector('#df-7852cb86-c4ea-4757-b08a-9d084ff91ac8 button.colab-df-convert');\n",
              "        buttonEl.style.display =\n",
              "          google.colab.kernel.accessAllowed ? 'block' : 'none';\n",
              "\n",
              "        async function convertToInteractive(key) {\n",
              "          const element = document.querySelector('#df-7852cb86-c4ea-4757-b08a-9d084ff91ac8');\n",
              "          const dataTable =\n",
              "            await google.colab.kernel.invokeFunction('convertToInteractive',\n",
              "                                                     [key], {});\n",
              "          if (!dataTable) return;\n",
              "\n",
              "          const docLinkHtml = 'Like what you see? Visit the ' +\n",
              "            '<a target=\"_blank\" href=https://colab.research.google.com/notebooks/data_table.ipynb>data table notebook</a>'\n",
              "            + ' to learn more about interactive tables.';\n",
              "          element.innerHTML = '';\n",
              "          dataTable['output_type'] = 'display_data';\n",
              "          await google.colab.output.renderOutput(dataTable, element);\n",
              "          const docLink = document.createElement('div');\n",
              "          docLink.innerHTML = docLinkHtml;\n",
              "          element.appendChild(docLink);\n",
              "        }\n",
              "      </script>\n",
              "    </div>\n",
              "  </div>\n",
              "  "
            ]
          },
          "metadata": {},
          "execution_count": 31
        }
      ]
    },
    {
      "cell_type": "markdown",
      "source": [
        "Отсутствуют пустые значения"
      ],
      "metadata": {
        "id": "e7lSGhghWY06"
      }
    },
    {
      "cell_type": "code",
      "source": [
        "movie_details.isnull().sum().sort_values(ascending=False)"
      ],
      "metadata": {
        "colab": {
          "base_uri": "https://localhost:8080/"
        },
        "id": "J2LUUAehUm17",
        "outputId": "e1eaf5e0-2cf0-4d72-ccd6-e870894e12c8"
      },
      "execution_count": null,
      "outputs": [
        {
          "output_type": "execute_result",
          "data": {
            "text/plain": [
              "movie_id         0\n",
              "plot_summary     0\n",
              "duration         0\n",
              "genre            0\n",
              "rating           0\n",
              "release_date     0\n",
              "plot_synopsis    0\n",
              "dtype: int64"
            ]
          },
          "metadata": {},
          "execution_count": 28
        }
      ]
    },
    {
      "cell_type": "code",
      "source": [
        "reviews.isnull().sum().sort_values(ascending=False)"
      ],
      "metadata": {
        "colab": {
          "base_uri": "https://localhost:8080/"
        },
        "id": "6kUTwdU6WU-_",
        "outputId": "1ed86eb9-694f-47d9-987b-c41cf0af05e6"
      },
      "execution_count": null,
      "outputs": [
        {
          "output_type": "execute_result",
          "data": {
            "text/plain": [
              "review_date       0\n",
              "movie_id          0\n",
              "user_id           0\n",
              "is_spoiler        0\n",
              "review_text       0\n",
              "rating            0\n",
              "review_summary    0\n",
              "dtype: int64"
            ]
          },
          "metadata": {},
          "execution_count": 29
        }
      ]
    },
    {
      "cell_type": "markdown",
      "source": [
        "#### Распределение длин обзоров"
      ],
      "metadata": {
        "id": "FYH91vHWgdik"
      }
    },
    {
      "cell_type": "code",
      "source": [
        "tqdm.pandas()\n",
        "\n",
        "reviews['review_len'] = reviews['review_text'].progress_apply(lambda x: 10*(len(x.split())//10))"
      ],
      "metadata": {
        "colab": {
          "base_uri": "https://localhost:8080/"
        },
        "id": "rxBj66X0ZqoU",
        "outputId": "7e2f3d83-b434-43fd-bc9c-907fdfef5e5e"
      },
      "execution_count": null,
      "outputs": [
        {
          "output_type": "stream",
          "name": "stderr",
          "text": [
            "100%|██████████| 573913/573913 [00:12<00:00, 47057.88it/s]\n"
          ]
        }
      ]
    },
    {
      "cell_type": "code",
      "source": [
        "sns.histplot(data=reviews['review_len'])"
      ],
      "metadata": {
        "colab": {
          "base_uri": "https://localhost:8080/",
          "height": 299
        },
        "id": "bCUNM8onadMF",
        "outputId": "3b83ee67-ecb0-410b-bd2e-de22c2e49428"
      },
      "execution_count": null,
      "outputs": [
        {
          "output_type": "execute_result",
          "data": {
            "text/plain": [
              "<AxesSubplot:xlabel='review_len', ylabel='Count'>"
            ]
          },
          "metadata": {},
          "execution_count": 77
        },
        {
          "output_type": "display_data",
          "data": {
            "text/plain": [
              "<Figure size 432x288 with 1 Axes>"
            ],
            "image/png": "[encoded data removed]"
          },
          "metadata": {
            "needs_background": "light"
          }
        }
      ]
    },
    {
      "cell_type": "code",
      "source": [
        "sns.histplot(data=reviews.where(reviews['review_len'] < 1000)['review_len'])"
      ],
      "metadata": {
        "colab": {
          "base_uri": "https://localhost:8080/",
          "height": 299
        },
        "id": "DGlPXLS0cxYG",
        "outputId": "013bf7ad-c33a-4185-e124-9a3e8025a6c4"
      },
      "execution_count": null,
      "outputs": [
        {
          "output_type": "execute_result",
          "data": {
            "text/plain": [
              "<AxesSubplot:xlabel='review_len', ylabel='Count'>"
            ]
          },
          "metadata": {},
          "execution_count": 81
        },
        {
          "output_type": "display_data",
          "data": {
            "text/plain": [
              "<Figure size 432x288 with 1 Axes>"
            ],
            "image/png": "[encoded data removed]"
          },
          "metadata": {
            "needs_background": "light"
          }
        }
      ]
    },
    {
      "cell_type": "code",
      "source": [
        "sns.histplot(data=reviews.where(reviews['review_len'] < 200)['review_len'])"
      ],
      "metadata": {
        "colab": {
          "base_uri": "https://localhost:8080/",
          "height": 299
        },
        "id": "0yd1sVeNfMdg",
        "outputId": "eabc9ab6-223c-44b0-f003-e8a5f0f58cdd"
      },
      "execution_count": null,
      "outputs": [
        {
          "output_type": "execute_result",
          "data": {
            "text/plain": [
              "<AxesSubplot:xlabel='review_len', ylabel='Count'>"
            ]
          },
          "metadata": {},
          "execution_count": 82
        },
        {
          "output_type": "display_data",
          "data": {
            "text/plain": [
              "<Figure size 432x288 with 1 Axes>"
            ],
            "image/png": "[encoded data removed]"
          },
          "metadata": {
            "needs_background": "light"
          }
        }
      ]
    },
    {
      "cell_type": "markdown",
      "source": [
        "Распределение классов в зависимости от погора длин"
      ],
      "metadata": {
        "id": "ZyUnmFo-gz-e"
      }
    },
    {
      "cell_type": "code",
      "source": [
        "colors = sns.color_palette('pastel')[0:5]\n",
        "\n",
        "is_spoiler = reviews.groupby(\"is_spoiler\").count()\n",
        "is_spoiler[\"review_summary\"].plot.pie(labels=['Not Spoiler', 'Spoiler'], colors=colors, autopct=\"%.1f%%\")"
      ],
      "metadata": {
        "colab": {
          "base_uri": "https://localhost:8080/",
          "height": 267
        },
        "id": "ALPUWnOZWW8T",
        "outputId": "f7463445-00f6-447e-8e70-348131f30531"
      },
      "execution_count": null,
      "outputs": [
        {
          "output_type": "execute_result",
          "data": {
            "text/plain": [
              "<AxesSubplot:ylabel='review_summary'>"
            ]
          },
          "metadata": {},
          "execution_count": 59
        },
        {
          "output_type": "display_data",
          "data": {
            "text/plain": [
              "<Figure size 432x288 with 1 Axes>"
            ],
            "image/png": "[encoded data removed]"
          },
          "metadata": {}
        }
      ]
    },
    {
      "cell_type": "code",
      "source": [
        "colors = sns.color_palette('pastel')[0:5]\n",
        "\n",
        "is_spoiler_1000 = reviews.where(reviews['review_len'] < 1000).groupby(\"is_spoiler\").count()\n",
        "is_spoiler_1000[\"review_summary\"].plot.pie(labels=['Not Spoiler', 'Spoiler'], colors=colors, autopct=\"%.1f%%\")"
      ],
      "metadata": {
        "colab": {
          "base_uri": "https://localhost:8080/",
          "height": 267
        },
        "id": "fQApJh0rffia",
        "outputId": "9a35105c-7b0b-4a1f-be4d-da1b6c9058d9"
      },
      "execution_count": null,
      "outputs": [
        {
          "output_type": "execute_result",
          "data": {
            "text/plain": [
              "<AxesSubplot:ylabel='review_summary'>"
            ]
          },
          "metadata": {},
          "execution_count": 83
        },
        {
          "output_type": "display_data",
          "data": {
            "text/plain": [
              "<Figure size 432x288 with 1 Axes>"
            ],
            "image/png": "[encoded data removed]"
          },
          "metadata": {}
        }
      ]
    },
    {
      "cell_type": "code",
      "source": [
        "colors = sns.color_palette('pastel')[0:5]\n",
        "\n",
        "is_spoiler_200 = reviews.where(reviews['review_len'] < 200).groupby(\"is_spoiler\").count()\n",
        "is_spoiler_200[\"review_summary\"].plot.pie(labels=['Not Spoiler', 'Spoiler'], colors=colors, autopct=\"%.1f%%\")"
      ],
      "metadata": {
        "colab": {
          "base_uri": "https://localhost:8080/",
          "height": 267
        },
        "id": "x3hqdwm_hB9i",
        "outputId": "48ccbac3-f183-49d4-904e-52ccf048af47"
      },
      "execution_count": null,
      "outputs": [
        {
          "output_type": "execute_result",
          "data": {
            "text/plain": [
              "<AxesSubplot:ylabel='review_summary'>"
            ]
          },
          "metadata": {},
          "execution_count": 84
        },
        {
          "output_type": "display_data",
          "data": {
            "text/plain": [
              "<Figure size 432x288 with 1 Axes>"
            ],
            "image/png": "[encoded data removed]"
          },
          "metadata": {}
        }
      ]
    },
    {
      "cell_type": "code",
      "source": [
        "colors = sns.color_palette('pastel')[0:5]\n",
        "\n",
        "is_spoiler_130 = reviews.where(reviews['review_len'] < 130).groupby(\"is_spoiler\").count()\n",
        "is_spoiler_130[\"review_summary\"].plot.pie(labels=['Not Spoiler', 'Spoiler'], colors=colors, autopct=\"%.1f%%\")"
      ],
      "metadata": {
        "colab": {
          "base_uri": "https://localhost:8080/",
          "height": 267
        },
        "id": "s1NT3DzRhG43",
        "outputId": "9f1c6b08-8472-4432-a3af-8c28a8fc8b2e"
      },
      "execution_count": null,
      "outputs": [
        {
          "output_type": "execute_result",
          "data": {
            "text/plain": [
              "<AxesSubplot:ylabel='review_summary'>"
            ]
          },
          "metadata": {},
          "execution_count": 85
        },
        {
          "output_type": "display_data",
          "data": {
            "text/plain": [
              "<Figure size 432x288 with 1 Axes>"
            ],
            "image/png": "[encoded data removed]"
          },
          "metadata": {}
        }
      ]
    },
    {
      "cell_type": "markdown",
      "source": [
        "#### Специфическая лексика для каждого класса в зависимости от количества слов"
      ],
      "metadata": {
        "id": "FnRHbNm0q4yn"
      }
    },
    {
      "cell_type": "code",
      "source": [
        "def get_unique_words_for_spoiler_reviews(reviews, ind):\n",
        "    vectorizer = TfidfVectorizer(stop_words='english')\n",
        "    review_tfidfs = vectorizer.fit_transform(reviews['review_text'])\n",
        "\n",
        "    true = reviews['is_spoiler'][0]\n",
        "\n",
        "    spoiler_tfidfs = review_tfidfs[reviews[reviews['is_spoiler'] == true].index]\n",
        "    not_spoiler_tfidfs = review_tfidfs[reviews[reviews['is_spoiler'] != true].index]\n",
        "\n",
        "    spoiler_tfidf_avg = spoiler_tfidfs.tocsc().sum(axis=0)\n",
        "    not_spoiler_tfidf_avg = not_spoiler_tfidfs.tocsc().sum(axis=0)\n",
        "\n",
        "    tfidf_diff = spoiler_tfidf_avg - not_spoiler_tfidf_avg\n",
        "\n",
        "    return pd.DataFrame(data={\n",
        "        'word '+ind: list(np.squeeze(vectorizer.get_feature_names_out()[(-tfidf_diff).argsort()])),\n",
        "        'tfidf score '+ind: list(np.asarray(tfidf_diff)[0][(-np.asarray(tfidf_diff)[0]).argsort()])\n",
        "        })\n",
        "    \n",
        "def shrink_text(text, n):\n",
        "    return ' '.join(text.split()[:n])"
      ],
      "metadata": {
        "id": "EEeYuHROHl7f"
      },
      "execution_count": null,
      "outputs": []
    },
    {
      "cell_type": "code",
      "source": [
        "test_reviews = deepcopy(reviews)"
      ],
      "metadata": {
        "id": "gyTkLKkoKunY"
      },
      "execution_count": null,
      "outputs": []
    },
    {
      "cell_type": "code",
      "source": [
        "full_text_review = get_unique_words_for_spoiler_reviews(reviews, 'full')\n",
        "\n",
        "test_reviews['review_text'] = test_reviews['review_text'].progress_apply(lambda x: shrink_text(x, 200))\n",
        "text_200_review = get_unique_words_for_spoiler_reviews(test_reviews, '200')\n",
        "\n",
        "test_reviews['review_text'] = test_reviews['review_text'].progress_apply(lambda x: shrink_text(x, 150))\n",
        "text_150_review = get_unique_words_for_spoiler_reviews(test_reviews, '150')\n",
        "\n",
        "test_reviews['review_text'] = test_reviews['review_text'].progress_apply(lambda x: shrink_text(x, 100))\n",
        "text_100_review = get_unique_words_for_spoiler_reviews(test_reviews, '100')\n",
        "\n",
        "test_reviews['review_text'] = test_reviews['review_text'].progress_apply(lambda x: shrink_text(x, 50))\n",
        "text_50_review = get_unique_words_for_spoiler_reviews(test_reviews, '50')"
      ],
      "metadata": {
        "colab": {
          "base_uri": "https://localhost:8080/"
        },
        "id": "1AKKVUDDLeJt",
        "outputId": "83744cfd-cdaf-48d3-a62b-a1d25ff7f029"
      },
      "execution_count": null,
      "outputs": [
        {
          "output_type": "stream",
          "name": "stderr",
          "text": [
            "100%|██████████| 573913/573913 [00:15<00:00, 37680.57it/s]\n",
            "100%|██████████| 573913/573913 [00:11<00:00, 48138.79it/s]\n",
            "100%|██████████| 573913/573913 [00:07<00:00, 74986.55it/s]\n",
            "100%|██████████| 573913/573913 [00:06<00:00, 89846.47it/s] \n"
          ]
        }
      ]
    },
    {
      "cell_type": "code",
      "source": [
        "pd.concat([full_text_review, text_200_review, text_150_review, text_100_review, text_50_review], axis=1).head(40)"
      ],
      "metadata": {
        "colab": {
          "base_uri": "https://localhost:8080/"
        },
        "id": "AO5YKqkXS7_Y",
        "outputId": "30db0660-1119-494d-9a2c-b6460af0c680"
      },
      "execution_count": null,
      "outputs": [
        {
          "output_type": "execute_result",
          "data": {
            "text/plain": [
              "          word  tfidf score     word 200  tfidf score 200      word 150  \\\n",
              "0      spoiler   471.391540     spoilers       561.136759      spoilers   \n",
              "1     spoilers   434.468404      spoiler       457.282731       spoiler   \n",
              "2        alert   149.575649        alert       153.926945         alert   \n",
              "3         dies    87.531589         dies        46.244071       warning   \n",
              "4       killed    69.959596          rey        34.646839           dir   \n",
              "5          rey    51.224308      warning        28.891777           rey   \n",
              "6         kylo    45.396940         kylo        28.537389      mandarin   \n",
              "7        kills    34.067405          dir        28.249381          dies   \n",
              "8        snoke    33.855421     mandarin        28.173157         snoke   \n",
              "9   dumbledore    32.758333        snoke        26.030542          kylo   \n",
              "10    mandarin    32.380144        bafta        20.815855         bafta   \n",
              "11         ren    29.522720          ren        16.356012     spoilersi   \n",
              "12   voldemort    27.771163         elsa        14.578195           ren   \n",
              "13         dir    25.808238    spoilersi        13.652610          elsa   \n",
              "14      aurora    24.869655       aurora        13.292699         lucie   \n",
              "15     neville    23.050364   dumbledore        12.086561   spoilersthe   \n",
              "16        leia    21.909688      neville        11.673032        aurora   \n",
              "17        elsa    20.743826         leia        10.927575    adamantium   \n",
              "18     stabbed    19.349143   adamantium        10.544865       neville   \n",
              "19  coulardeau    17.480628      stabbed        10.083184    dumbledore   \n",
              "20  adamantium    16.406192    palpatine        10.013984          ares   \n",
              "21       ginny    16.352329        lucie         9.869505          leia   \n",
              "22         zod    16.009110         ares         9.060719         ginny   \n",
              "23       bafta    15.599057        ginny         8.996063       stabbed   \n",
              "24      thorin    15.158500       locket         8.478743    stonedraim   \n",
              "25    swilliky    14.868311  spoilersthe         8.460739        vulcan   \n",
              "26        ares    14.526620         kili         8.451250        florya   \n",
              "27       spock    14.244174       thorin         8.320222        incest   \n",
              "28      florya    13.121663    voldemort         8.079003     palpatine   \n",
              "29        kili    12.855473       florya         7.794053     voldemort   \n",
              "30   palpatine    12.502761       vulcan         7.632829        locket   \n",
              "31       bucky    12.340107   kryptonite         7.242307         beorn   \n",
              "32      sirius    12.332269         wand         7.238879          wand   \n",
              "33    sorbonne    12.235143      tauriel         7.213666          kili   \n",
              "34  kryptonite    11.966629        beorn         6.952860    scenarists   \n",
              "35        wand    11.872364        hydra         6.942140        grover   \n",
              "36      vulcan    11.710954     swilliky         6.875398  spoilersthis   \n",
              "37     tauriel    11.622831       burrow         6.839814       tauriel   \n",
              "38   spoilersi    11.413797        kills         6.782410      kristoff   \n",
              "39    kristoff    11.385446     kristoff         6.739503           tfa   \n",
              "\n",
              "    tfidf score 150      word 100  tfidf score 100       word 50  \\\n",
              "0        624.649390      spoilers       736.354629      spoilers   \n",
              "1        446.083624       spoiler       435.072130       spoiler   \n",
              "2        153.050924         alert       152.402621       warning   \n",
              "3         55.238184       warning        99.667161         alert   \n",
              "4         38.501837           dir        50.998869       contain   \n",
              "5         30.908447         bafta        24.126627           dir   \n",
              "6         27.562019      mandarin        23.803346     spoilersi   \n",
              "7         27.266034       contain        21.680366         ahead   \n",
              "8         22.874763     spoilersi        18.480416         recap   \n",
              "9         22.730313           rey        18.074507          mild   \n",
              "10        22.498780          kylo        15.924229         bafta   \n",
              "11        15.145663         snoke        15.661890      contains   \n",
              "12        14.275965   spoilersthe        10.483150      mandarin   \n",
              "13        11.283419           ren         9.149421   spoilersthe   \n",
              "14         9.369282    stonedraim         8.740077          1001   \n",
              "15         9.290154         recap         8.577160           rey   \n",
              "16         9.278710          dies         7.526045       caution   \n",
              "17         9.078908         tesla         7.327441    stonedraim   \n",
              "18         9.073081          1001         7.146727         snoke   \n",
              "19         8.420900  spoilersthis         6.841332          kylo   \n",
              "20         8.368758         lucie         6.642347  spoilersthis   \n",
              "21         8.320144         bucky         6.386296    prometheus   \n",
              "22         7.867402          ares         5.966364        aheadi   \n",
              "23         7.546951     horcruxes         5.677629    dumbledore   \n",
              "24         7.376482      dursleys         5.372385           ddk   \n",
              "25         7.088972           tfa         5.349661         like1   \n",
              "26         6.825928         hydra         5.348573         droid   \n",
              "27         6.749811          leia         5.290459           tfa   \n",
              "28         6.685676         like1         4.902913        klimov   \n",
              "29         6.562153       tauriel         4.876259         tesla   \n",
              "30         6.531279        aurora         4.860771        liked1   \n",
              "31         6.217856    scenarists         4.836322     winkleman   \n",
              "32         6.185198     voldemort         4.817895          tris   \n",
              "33         6.145694        locket         4.761131  spoilerswhat   \n",
              "34         6.080012        tarkin         4.718453  spoilerswhen   \n",
              "35         6.058112   pyroclastic         4.600463     volcanoes   \n",
              "36         5.998751        mufasa         4.597266         bucky   \n",
              "37         5.974899    adamantium         4.593166    spoilersit   \n",
              "38         5.715733        vulcan         4.560114           ren   \n",
              "39         5.526946          kili         4.471604        12cast   \n",
              "\n",
              "    tfidf score 50  \n",
              "0       918.615480  \n",
              "1       429.831494  \n",
              "2       163.913171  \n",
              "3       147.771454  \n",
              "4        92.869708  \n",
              "5        69.686943  \n",
              "6        25.036935  \n",
              "7        22.632924  \n",
              "8        18.331514  \n",
              "9        17.465268  \n",
              "10       17.344829  \n",
              "11       15.938222  \n",
              "12       14.488293  \n",
              "13       13.974476  \n",
              "14       13.178406  \n",
              "15       12.009073  \n",
              "16       11.670633  \n",
              "17       11.581028  \n",
              "18        9.408707  \n",
              "19        8.852080  \n",
              "20        8.661688  \n",
              "21        6.822244  \n",
              "22        5.411325  \n",
              "23        5.168732  \n",
              "24        5.167247  \n",
              "25        4.692045  \n",
              "26        4.555046  \n",
              "27        4.551800  \n",
              "28        4.440253  \n",
              "29        4.391796  \n",
              "30        4.349278  \n",
              "31        4.246964  \n",
              "32        4.233137  \n",
              "33        4.217140  \n",
              "34        4.113740  \n",
              "35        4.038703  \n",
              "36        4.017476  \n",
              "37        3.967005  \n",
              "38        3.923263  \n",
              "39        3.900115  "
            ],
            "text/html": [
              "\n",
              "  <div id=\"df-0ca7bd37-54a4-4172-af34-90f263765150\">\n",
              "    <div class=\"colab-df-container\">\n",
              "      <div>\n",
              "<style scoped>\n",
              "    .dataframe tbody tr th:only-of-type {\n",
              "        vertical-align: middle;\n",
              "    }\n",
              "\n",
              "    .dataframe tbody tr th {\n",
              "        vertical-align: top;\n",
              "    }\n",
              "\n",
              "    .dataframe thead th {\n",
              "        text-align: right;\n",
              "    }\n",
              "</style>\n",
              "<table border=\"1\" class=\"dataframe\">\n",
              "  <thead>\n",
              "    <tr style=\"text-align: right;\">\n",
              "      <th></th>\n",
              "      <th>word</th>\n",
              "      <th>tfidf score</th>\n",
              "      <th>word 200</th>\n",
              "      <th>tfidf score 200</th>\n",
              "      <th>word 150</th>\n",
              "      <th>tfidf score 150</th>\n",
              "      <th>word 100</th>\n",
              "      <th>tfidf score 100</th>\n",
              "      <th>word 50</th>\n",
              "      <th>tfidf score 50</th>\n",
              "    </tr>\n",
              "  </thead>\n",
              "  <tbody>\n",
              "    <tr>\n",
              "      <th>0</th>\n",
              "      <td>spoiler</td>\n",
              "      <td>471.391540</td>\n",
              "      <td>spoilers</td>\n",
              "      <td>561.136759</td>\n",
              "      <td>spoilers</td>\n",
              "      <td>624.649390</td>\n",
              "      <td>spoilers</td>\n",
              "      <td>736.354629</td>\n",
              "      <td>spoilers</td>\n",
              "      <td>918.615480</td>\n",
              "    </tr>\n",
              "    <tr>\n",
              "      <th>1</th>\n",
              "      <td>spoilers</td>\n",
              "      <td>434.468404</td>\n",
              "      <td>spoiler</td>\n",
              "      <td>457.282731</td>\n",
              "      <td>spoiler</td>\n",
              "      <td>446.083624</td>\n",
              "      <td>spoiler</td>\n",
              "      <td>435.072130</td>\n",
              "      <td>spoiler</td>\n",
              "      <td>429.831494</td>\n",
              "    </tr>\n",
              "    <tr>\n",
              "      <th>2</th>\n",
              "      <td>alert</td>\n",
              "      <td>149.575649</td>\n",
              "      <td>alert</td>\n",
              "      <td>153.926945</td>\n",
              "      <td>alert</td>\n",
              "      <td>153.050924</td>\n",
              "      <td>alert</td>\n",
              "      <td>152.402621</td>\n",
              "      <td>warning</td>\n",
              "      <td>163.913171</td>\n",
              "    </tr>\n",
              "    <tr>\n",
              "      <th>3</th>\n",
              "      <td>dies</td>\n",
              "      <td>87.531589</td>\n",
              "      <td>dies</td>\n",
              "      <td>46.244071</td>\n",
              "      <td>warning</td>\n",
              "      <td>55.238184</td>\n",
              "      <td>warning</td>\n",
              "      <td>99.667161</td>\n",
              "      <td>alert</td>\n",
              "      <td>147.771454</td>\n",
              "    </tr>\n",
              "    <tr>\n",
              "      <th>4</th>\n",
              "      <td>killed</td>\n",
              "      <td>69.959596</td>\n",
              "      <td>rey</td>\n",
              "      <td>34.646839</td>\n",
              "      <td>dir</td>\n",
              "      <td>38.501837</td>\n",
              "      <td>dir</td>\n",
              "      <td>50.998869</td>\n",
              "      <td>contain</td>\n",
              "      <td>92.869708</td>\n",
              "    </tr>\n",
              "    <tr>\n",
              "      <th>5</th>\n",
              "      <td>rey</td>\n",
              "      <td>51.224308</td>\n",
              "      <td>warning</td>\n",
              "      <td>28.891777</td>\n",
              "      <td>rey</td>\n",
              "      <td>30.908447</td>\n",
              "      <td>bafta</td>\n",
              "      <td>24.126627</td>\n",
              "      <td>dir</td>\n",
              "      <td>69.686943</td>\n",
              "    </tr>\n",
              "    <tr>\n",
              "      <th>6</th>\n",
              "      <td>kylo</td>\n",
              "      <td>45.396940</td>\n",
              "      <td>kylo</td>\n",
              "      <td>28.537389</td>\n",
              "      <td>mandarin</td>\n",
              "      <td>27.562019</td>\n",
              "      <td>mandarin</td>\n",
              "      <td>23.803346</td>\n",
              "      <td>spoilersi</td>\n",
              "      <td>25.036935</td>\n",
              "    </tr>\n",
              "    <tr>\n",
              "      <th>7</th>\n",
              "      <td>kills</td>\n",
              "      <td>34.067405</td>\n",
              "      <td>dir</td>\n",
              "      <td>28.249381</td>\n",
              "      <td>dies</td>\n",
              "      <td>27.266034</td>\n",
              "      <td>contain</td>\n",
              "      <td>21.680366</td>\n",
              "      <td>ahead</td>\n",
              "      <td>22.632924</td>\n",
              "    </tr>\n",
              "    <tr>\n",
              "      <th>8</th>\n",
              "      <td>snoke</td>\n",
              "      <td>33.855421</td>\n",
              "      <td>mandarin</td>\n",
              "      <td>28.173157</td>\n",
              "      <td>snoke</td>\n",
              "      <td>22.874763</td>\n",
              "      <td>spoilersi</td>\n",
              "      <td>18.480416</td>\n",
              "      <td>recap</td>\n",
              "      <td>18.331514</td>\n",
              "    </tr>\n",
              "    <tr>\n",
              "      <th>9</th>\n",
              "      <td>dumbledore</td>\n",
              "      <td>32.758333</td>\n",
              "      <td>snoke</td>\n",
              "      <td>26.030542</td>\n",
              "      <td>kylo</td>\n",
              "      <td>22.730313</td>\n",
              "      <td>rey</td>\n",
              "      <td>18.074507</td>\n",
              "      <td>mild</td>\n",
              "      <td>17.465268</td>\n",
              "    </tr>\n",
              "    <tr>\n",
              "      <th>10</th>\n",
              "      <td>mandarin</td>\n",
              "      <td>32.380144</td>\n",
              "      <td>bafta</td>\n",
              "      <td>20.815855</td>\n",
              "      <td>bafta</td>\n",
              "      <td>22.498780</td>\n",
              "      <td>kylo</td>\n",
              "      <td>15.924229</td>\n",
              "      <td>bafta</td>\n",
              "      <td>17.344829</td>\n",
              "    </tr>\n",
              "    <tr>\n",
              "      <th>11</th>\n",
              "      <td>ren</td>\n",
              "      <td>29.522720</td>\n",
              "      <td>ren</td>\n",
              "      <td>16.356012</td>\n",
              "      <td>spoilersi</td>\n",
              "      <td>15.145663</td>\n",
              "      <td>snoke</td>\n",
              "      <td>15.661890</td>\n",
              "      <td>contains</td>\n",
              "      <td>15.938222</td>\n",
              "    </tr>\n",
              "    <tr>\n",
              "      <th>12</th>\n",
              "      <td>voldemort</td>\n",
              "      <td>27.771163</td>\n",
              "      <td>elsa</td>\n",
              "      <td>14.578195</td>\n",
              "      <td>ren</td>\n",
              "      <td>14.275965</td>\n",
              "      <td>spoilersthe</td>\n",
              "      <td>10.483150</td>\n",
              "      <td>mandarin</td>\n",
              "      <td>14.488293</td>\n",
              "    </tr>\n",
              "    <tr>\n",
              "      <th>13</th>\n",
              "      <td>dir</td>\n",
              "      <td>25.808238</td>\n",
              "      <td>spoilersi</td>\n",
              "      <td>13.652610</td>\n",
              "      <td>elsa</td>\n",
              "      <td>11.283419</td>\n",
              "      <td>ren</td>\n",
              "      <td>9.149421</td>\n",
              "      <td>spoilersthe</td>\n",
              "      <td>13.974476</td>\n",
              "    </tr>\n",
              "    <tr>\n",
              "      <th>14</th>\n",
              "      <td>aurora</td>\n",
              "      <td>24.869655</td>\n",
              "      <td>aurora</td>\n",
              "      <td>13.292699</td>\n",
              "      <td>lucie</td>\n",
              "      <td>9.369282</td>\n",
              "      <td>stonedraim</td>\n",
              "      <td>8.740077</td>\n",
              "      <td>1001</td>\n",
              "      <td>13.178406</td>\n",
              "    </tr>\n",
              "    <tr>\n",
              "      <th>15</th>\n",
              "      <td>neville</td>\n",
              "      <td>23.050364</td>\n",
              "      <td>dumbledore</td>\n",
              "      <td>12.086561</td>\n",
              "      <td>spoilersthe</td>\n",
              "      <td>9.290154</td>\n",
              "      <td>recap</td>\n",
              "      <td>8.577160</td>\n",
              "      <td>rey</td>\n",
              "      <td>12.009073</td>\n",
              "    </tr>\n",
              "    <tr>\n",
              "      <th>16</th>\n",
              "      <td>leia</td>\n",
              "      <td>21.909688</td>\n",
              "      <td>neville</td>\n",
              "      <td>11.673032</td>\n",
              "      <td>aurora</td>\n",
              "      <td>9.278710</td>\n",
              "      <td>dies</td>\n",
              "      <td>7.526045</td>\n",
              "      <td>caution</td>\n",
              "      <td>11.670633</td>\n",
              "    </tr>\n",
              "    <tr>\n",
              "      <th>17</th>\n",
              "      <td>elsa</td>\n",
              "      <td>20.743826</td>\n",
              "      <td>leia</td>\n",
              "      <td>10.927575</td>\n",
              "      <td>adamantium</td>\n",
              "      <td>9.078908</td>\n",
              "      <td>tesla</td>\n",
              "      <td>7.327441</td>\n",
              "      <td>stonedraim</td>\n",
              "      <td>11.581028</td>\n",
              "    </tr>\n",
              "    <tr>\n",
              "      <th>18</th>\n",
              "      <td>stabbed</td>\n",
              "      <td>19.349143</td>\n",
              "      <td>adamantium</td>\n",
              "      <td>10.544865</td>\n",
              "      <td>neville</td>\n",
              "      <td>9.073081</td>\n",
              "      <td>1001</td>\n",
              "      <td>7.146727</td>\n",
              "      <td>snoke</td>\n",
              "      <td>9.408707</td>\n",
              "    </tr>\n",
              "    <tr>\n",
              "      <th>19</th>\n",
              "      <td>coulardeau</td>\n",
              "      <td>17.480628</td>\n",
              "      <td>stabbed</td>\n",
              "      <td>10.083184</td>\n",
              "      <td>dumbledore</td>\n",
              "      <td>8.420900</td>\n",
              "      <td>spoilersthis</td>\n",
              "      <td>6.841332</td>\n",
              "      <td>kylo</td>\n",
              "      <td>8.852080</td>\n",
              "    </tr>\n",
              "    <tr>\n",
              "      <th>20</th>\n",
              "      <td>adamantium</td>\n",
              "      <td>16.406192</td>\n",
              "      <td>palpatine</td>\n",
              "      <td>10.013984</td>\n",
              "      <td>ares</td>\n",
              "      <td>8.368758</td>\n",
              "      <td>lucie</td>\n",
              "      <td>6.642347</td>\n",
              "      <td>spoilersthis</td>\n",
              "      <td>8.661688</td>\n",
              "    </tr>\n",
              "    <tr>\n",
              "      <th>21</th>\n",
              "      <td>ginny</td>\n",
              "      <td>16.352329</td>\n",
              "      <td>lucie</td>\n",
              "      <td>9.869505</td>\n",
              "      <td>leia</td>\n",
              "      <td>8.320144</td>\n",
              "      <td>bucky</td>\n",
              "      <td>6.386296</td>\n",
              "      <td>prometheus</td>\n",
              "      <td>6.822244</td>\n",
              "    </tr>\n",
              "    <tr>\n",
              "      <th>22</th>\n",
              "      <td>zod</td>\n",
              "      <td>16.009110</td>\n",
              "      <td>ares</td>\n",
              "      <td>9.060719</td>\n",
              "      <td>ginny</td>\n",
              "      <td>7.867402</td>\n",
              "      <td>ares</td>\n",
              "      <td>5.966364</td>\n",
              "      <td>aheadi</td>\n",
              "      <td>5.411325</td>\n",
              "    </tr>\n",
              "    <tr>\n",
              "      <th>23</th>\n",
              "      <td>bafta</td>\n",
              "      <td>15.599057</td>\n",
              "      <td>ginny</td>\n",
              "      <td>8.996063</td>\n",
              "      <td>stabbed</td>\n",
              "      <td>7.546951</td>\n",
              "      <td>horcruxes</td>\n",
              "      <td>5.677629</td>\n",
              "      <td>dumbledore</td>\n",
              "      <td>5.168732</td>\n",
              "    </tr>\n",
              "    <tr>\n",
              "      <th>24</th>\n",
              "      <td>thorin</td>\n",
              "      <td>15.158500</td>\n",
              "      <td>locket</td>\n",
              "      <td>8.478743</td>\n",
              "      <td>stonedraim</td>\n",
              "      <td>7.376482</td>\n",
              "      <td>dursleys</td>\n",
              "      <td>5.372385</td>\n",
              "      <td>ddk</td>\n",
              "      <td>5.167247</td>\n",
              "    </tr>\n",
              "    <tr>\n",
              "      <th>25</th>\n",
              "      <td>swilliky</td>\n",
              "      <td>14.868311</td>\n",
              "      <td>spoilersthe</td>\n",
              "      <td>8.460739</td>\n",
              "      <td>vulcan</td>\n",
              "      <td>7.088972</td>\n",
              "      <td>tfa</td>\n",
              "      <td>5.349661</td>\n",
              "      <td>like1</td>\n",
              "      <td>4.692045</td>\n",
              "    </tr>\n",
              "    <tr>\n",
              "      <th>26</th>\n",
              "      <td>ares</td>\n",
              "      <td>14.526620</td>\n",
              "      <td>kili</td>\n",
              "      <td>8.451250</td>\n",
              "      <td>florya</td>\n",
              "      <td>6.825928</td>\n",
              "      <td>hydra</td>\n",
              "      <td>5.348573</td>\n",
              "      <td>droid</td>\n",
              "      <td>4.555046</td>\n",
              "    </tr>\n",
              "    <tr>\n",
              "      <th>27</th>\n",
              "      <td>spock</td>\n",
              "      <td>14.244174</td>\n",
              "      <td>thorin</td>\n",
              "      <td>8.320222</td>\n",
              "      <td>incest</td>\n",
              "      <td>6.749811</td>\n",
              "      <td>leia</td>\n",
              "      <td>5.290459</td>\n",
              "      <td>tfa</td>\n",
              "      <td>4.551800</td>\n",
              "    </tr>\n",
              "    <tr>\n",
              "      <th>28</th>\n",
              "      <td>florya</td>\n",
              "      <td>13.121663</td>\n",
              "      <td>voldemort</td>\n",
              "      <td>8.079003</td>\n",
              "      <td>palpatine</td>\n",
              "      <td>6.685676</td>\n",
              "      <td>like1</td>\n",
              "      <td>4.902913</td>\n",
              "      <td>klimov</td>\n",
              "      <td>4.440253</td>\n",
              "    </tr>\n",
              "    <tr>\n",
              "      <th>29</th>\n",
              "      <td>kili</td>\n",
              "      <td>12.855473</td>\n",
              "      <td>florya</td>\n",
              "      <td>7.794053</td>\n",
              "      <td>voldemort</td>\n",
              "      <td>6.562153</td>\n",
              "      <td>tauriel</td>\n",
              "      <td>4.876259</td>\n",
              "      <td>tesla</td>\n",
              "      <td>4.391796</td>\n",
              "    </tr>\n",
              "    <tr>\n",
              "      <th>30</th>\n",
              "      <td>palpatine</td>\n",
              "      <td>12.502761</td>\n",
              "      <td>vulcan</td>\n",
              "      <td>7.632829</td>\n",
              "      <td>locket</td>\n",
              "      <td>6.531279</td>\n",
              "      <td>aurora</td>\n",
              "      <td>4.860771</td>\n",
              "      <td>liked1</td>\n",
              "      <td>4.349278</td>\n",
              "    </tr>\n",
              "    <tr>\n",
              "      <th>31</th>\n",
              "      <td>bucky</td>\n",
              "      <td>12.340107</td>\n",
              "      <td>kryptonite</td>\n",
              "      <td>7.242307</td>\n",
              "      <td>beorn</td>\n",
              "      <td>6.217856</td>\n",
              "      <td>scenarists</td>\n",
              "      <td>4.836322</td>\n",
              "      <td>winkleman</td>\n",
              "      <td>4.246964</td>\n",
              "    </tr>\n",
              "    <tr>\n",
              "      <th>32</th>\n",
              "      <td>sirius</td>\n",
              "      <td>12.332269</td>\n",
              "      <td>wand</td>\n",
              "      <td>7.238879</td>\n",
              "      <td>wand</td>\n",
              "      <td>6.185198</td>\n",
              "      <td>voldemort</td>\n",
              "      <td>4.817895</td>\n",
              "      <td>tris</td>\n",
              "      <td>4.233137</td>\n",
              "    </tr>\n",
              "    <tr>\n",
              "      <th>33</th>\n",
              "      <td>sorbonne</td>\n",
              "      <td>12.235143</td>\n",
              "      <td>tauriel</td>\n",
              "      <td>7.213666</td>\n",
              "      <td>kili</td>\n",
              "      <td>6.145694</td>\n",
              "      <td>locket</td>\n",
              "      <td>4.761131</td>\n",
              "      <td>spoilerswhat</td>\n",
              "      <td>4.217140</td>\n",
              "    </tr>\n",
              "    <tr>\n",
              "      <th>34</th>\n",
              "      <td>kryptonite</td>\n",
              "      <td>11.966629</td>\n",
              "      <td>beorn</td>\n",
              "      <td>6.952860</td>\n",
              "      <td>scenarists</td>\n",
              "      <td>6.080012</td>\n",
              "      <td>tarkin</td>\n",
              "      <td>4.718453</td>\n",
              "      <td>spoilerswhen</td>\n",
              "      <td>4.113740</td>\n",
              "    </tr>\n",
              "    <tr>\n",
              "      <th>35</th>\n",
              "      <td>wand</td>\n",
              "      <td>11.872364</td>\n",
              "      <td>hydra</td>\n",
              "      <td>6.942140</td>\n",
              "      <td>grover</td>\n",
              "      <td>6.058112</td>\n",
              "      <td>pyroclastic</td>\n",
              "      <td>4.600463</td>\n",
              "      <td>volcanoes</td>\n",
              "      <td>4.038703</td>\n",
              "    </tr>\n",
              "    <tr>\n",
              "      <th>36</th>\n",
              "      <td>vulcan</td>\n",
              "      <td>11.710954</td>\n",
              "      <td>swilliky</td>\n",
              "      <td>6.875398</td>\n",
              "      <td>spoilersthis</td>\n",
              "      <td>5.998751</td>\n",
              "      <td>mufasa</td>\n",
              "      <td>4.597266</td>\n",
              "      <td>bucky</td>\n",
              "      <td>4.017476</td>\n",
              "    </tr>\n",
              "    <tr>\n",
              "      <th>37</th>\n",
              "      <td>tauriel</td>\n",
              "      <td>11.622831</td>\n",
              "      <td>burrow</td>\n",
              "      <td>6.839814</td>\n",
              "      <td>tauriel</td>\n",
              "      <td>5.974899</td>\n",
              "      <td>adamantium</td>\n",
              "      <td>4.593166</td>\n",
              "      <td>spoilersit</td>\n",
              "      <td>3.967005</td>\n",
              "    </tr>\n",
              "    <tr>\n",
              "      <th>38</th>\n",
              "      <td>spoilersi</td>\n",
              "      <td>11.413797</td>\n",
              "      <td>kills</td>\n",
              "      <td>6.782410</td>\n",
              "      <td>kristoff</td>\n",
              "      <td>5.715733</td>\n",
              "      <td>vulcan</td>\n",
              "      <td>4.560114</td>\n",
              "      <td>ren</td>\n",
              "      <td>3.923263</td>\n",
              "    </tr>\n",
              "    <tr>\n",
              "      <th>39</th>\n",
              "      <td>kristoff</td>\n",
              "      <td>11.385446</td>\n",
              "      <td>kristoff</td>\n",
              "      <td>6.739503</td>\n",
              "      <td>tfa</td>\n",
              "      <td>5.526946</td>\n",
              "      <td>kili</td>\n",
              "      <td>4.471604</td>\n",
              "      <td>12cast</td>\n",
              "      <td>3.900115</td>\n",
              "    </tr>\n",
              "  </tbody>\n",
              "</table>\n",
              "</div>\n",
              "      <button class=\"colab-df-convert\" onclick=\"convertToInteractive('df-0ca7bd37-54a4-4172-af34-90f263765150')\"\n",
              "              title=\"Convert this dataframe to an interactive table.\"\n",
              "              style=\"display:none;\">\n",
              "        \n",
              "  <svg xmlns=\"http://www.w3.org/2000/svg\" height=\"24px\"viewBox=\"0 0 24 24\"\n",
              "       width=\"24px\">\n",
              "    <path d=\"M0 0h24v24H0V0z\" fill=\"none\"/>\n",
              "    <path d=\"M18.56 5.44l.94 2.06.94-2.06 2.06-.94-2.06-.94-.94-2.06-.94 2.06-2.06.94zm-11 1L8.5 8.5l.94-2.06 2.06-.94-2.06-.94L8.5 2.5l-.94 2.06-2.06.94zm10 10l.94 2.06.94-2.06 2.06-.94-2.06-.94-.94-2.06-.94 2.06-2.06.94z\"/><path d=\"M17.41 7.96l-1.37-1.37c-.4-.4-.92-.59-1.43-.59-.52 0-1.04.2-1.43.59L10.3 9.45l-7.72 7.72c-.78.78-.78 2.05 0 2.83L4 21.41c.39.39.9.59 1.41.59.51 0 1.02-.2 1.41-.59l7.78-7.78 2.81-2.81c.8-.78.8-2.07 0-2.86zM5.41 20L4 18.59l7.72-7.72 1.47 1.35L5.41 20z\"/>\n",
              "  </svg>\n",
              "      </button>\n",
              "      \n",
              "  <style>\n",
              "    .colab-df-container {\n",
              "      display:flex;\n",
              "      flex-wrap:wrap;\n",
              "      gap: 12px;\n",
              "    }\n",
              "\n",
              "    .colab-df-convert {\n",
              "      background-color: #E8F0FE;\n",
              "      border: none;\n",
              "      border-radius: 50%;\n",
              "      cursor: pointer;\n",
              "      display: none;\n",
              "      fill: #1967D2;\n",
              "      height: 32px;\n",
              "      padding: 0 0 0 0;\n",
              "      width: 32px;\n",
              "    }\n",
              "\n",
              "    .colab-df-convert:hover {\n",
              "      background-color: #E2EBFA;\n",
              "      box-shadow: 0px 1px 2px rgba(60, 64, 67, 0.3), 0px 1px 3px 1px rgba(60, 64, 67, 0.15);\n",
              "      fill: #174EA6;\n",
              "    }\n",
              "\n",
              "    [theme=dark] .colab-df-convert {\n",
              "      background-color: #3B4455;\n",
              "      fill: #D2E3FC;\n",
              "    }\n",
              "\n",
              "    [theme=dark] .colab-df-convert:hover {\n",
              "      background-color: #434B5C;\n",
              "      box-shadow: 0px 1px 3px 1px rgba(0, 0, 0, 0.15);\n",
              "      filter: drop-shadow(0px 1px 2px rgba(0, 0, 0, 0.3));\n",
              "      fill: #FFFFFF;\n",
              "    }\n",
              "  </style>\n",
              "\n",
              "      <script>\n",
              "        const buttonEl =\n",
              "          document.querySelector('#df-0ca7bd37-54a4-4172-af34-90f263765150 button.colab-df-convert');\n",
              "        buttonEl.style.display =\n",
              "          google.colab.kernel.accessAllowed ? 'block' : 'none';\n",
              "\n",
              "        async function convertToInteractive(key) {\n",
              "          const element = document.querySelector('#df-0ca7bd37-54a4-4172-af34-90f263765150');\n",
              "          const dataTable =\n",
              "            await google.colab.kernel.invokeFunction('convertToInteractive',\n",
              "                                                     [key], {});\n",
              "          if (!dataTable) return;\n",
              "\n",
              "          const docLinkHtml = 'Like what you see? Visit the ' +\n",
              "            '<a target=\"_blank\" href=https://colab.research.google.com/notebooks/data_table.ipynb>data table notebook</a>'\n",
              "            + ' to learn more about interactive tables.';\n",
              "          element.innerHTML = '';\n",
              "          dataTable['output_type'] = 'display_data';\n",
              "          await google.colab.output.renderOutput(dataTable, element);\n",
              "          const docLink = document.createElement('div');\n",
              "          docLink.innerHTML = docLinkHtml;\n",
              "          element.appendChild(docLink);\n",
              "        }\n",
              "      </script>\n",
              "    </div>\n",
              "  </div>\n",
              "  "
            ]
          },
          "metadata": {},
          "execution_count": 263
        }
      ]
    },
    {
      "cell_type": "markdown",
      "source": [
        "Если посмотреть на слова с наибольшей разницей tf-idf для спойлеров и не-спойлеров, то при изменении длины отсечки текста набор остается примерно одним и тем же, меняется порядок.\n",
        "Можно предположить, что в спойлерных обзорах чаще употребляются имена персонажей и слова типа \"убил\", \"умер\", \"убийтво\", а еще их отличительной чертой является СПОЙЛЕР АЛЕРТ. С уменьшением длины отзыва это свойство сохраняется, значит, при подаче данных модели можно уменьшить количество слов"
      ],
      "metadata": {
        "id": "vfTLvK-QXUcU"
      }
    },
    {
      "cell_type": "markdown",
      "source": [
        "Если есть такие маркерные слова, можно попробовать подавать модели лишь отзывы, без сюжета фильма, и сравнить с моделью с контекстом. Вероятно, из-за изобилия имен персонажей роль сыграет и регистр букв, поэтому попробуем cased-модель. "
      ],
      "metadata": {
        "id": "sJ6_w8gAE9rH"
      }
    },
    {
      "cell_type": "markdown",
      "source": [
        "# Импорты"
      ],
      "metadata": {
        "id": "sOybymtMVNn1"
      }
    },
    {
      "cell_type": "code",
      "source": [
        "!pip install transformers"
      ],
      "metadata": {
        "colab": {
          "base_uri": "https://localhost:8080/"
        },
        "id": "8X5Yul0flCNw",
        "outputId": "2f5800b8-f4e2-46c0-ab71-10c7ab31bd2f"
      },
      "execution_count": null,
      "outputs": [
        {
          "output_type": "stream",
          "name": "stdout",
          "text": [
            "Looking in indexes: https://pypi.org/simple, https://us-python.pkg.dev/colab-wheels/public/simple/\n",
            "Requirement already satisfied: transformers in /usr/local/lib/python3.9/dist-packages (4.27.2)\n",
            "Requirement already satisfied: huggingface-hub<1.0,>=0.11.0 in /usr/local/lib/python3.9/dist-packages (from transformers) (0.13.3)\n",
            "Requirement already satisfied: regex!=2019.12.17 in /usr/local/lib/python3.9/dist-packages (from transformers) (2022.10.31)\n",
            "Requirement already satisfied: numpy>=1.17 in /usr/local/lib/python3.9/dist-packages (from transformers) (1.22.4)\n",
            "Requirement already satisfied: packaging>=20.0 in /usr/local/lib/python3.9/dist-packages (from transformers) (23.0)\n",
            "Requirement already satisfied: tqdm>=4.27 in /usr/local/lib/python3.9/dist-packages (from transformers) (4.65.0)\n",
            "Requirement already satisfied: filelock in /usr/local/lib/python3.9/dist-packages (from transformers) (3.10.0)\n",
            "Requirement already satisfied: requests in /usr/local/lib/python3.9/dist-packages (from transformers) (2.27.1)\n",
            "Requirement already satisfied: pyyaml>=5.1 in /usr/local/lib/python3.9/dist-packages (from transformers) (6.0)\n",
            "Requirement already satisfied: tokenizers!=0.11.3,<0.14,>=0.11.1 in /usr/local/lib/python3.9/dist-packages (from transformers) (0.13.2)\n",
            "Requirement already satisfied: typing-extensions>=3.7.4.3 in /usr/local/lib/python3.9/dist-packages (from huggingface-hub<1.0,>=0.11.0->transformers) (4.5.0)\n",
            "Requirement already satisfied: certifi>=2017.4.17 in /usr/local/lib/python3.9/dist-packages (from requests->transformers) (2022.12.7)\n",
            "Requirement already satisfied: urllib3<1.27,>=1.21.1 in /usr/local/lib/python3.9/dist-packages (from requests->transformers) (1.26.15)\n",
            "Requirement already satisfied: idna<4,>=2.5 in /usr/local/lib/python3.9/dist-packages (from requests->transformers) (3.4)\n",
            "Requirement already satisfied: charset-normalizer~=2.0.0 in /usr/local/lib/python3.9/dist-packages (from requests->transformers) (2.0.12)\n"
          ]
        }
      ]
    },
    {
      "cell_type": "code",
      "source": [
        "import os\n",
        "import zipfile\n",
        "from tqdm import tqdm\n",
        "import json\n",
        "import pandas as pd\n",
        "import matplotlib.pyplot as plt\n",
        "import seaborn as sns\n",
        "from sklearn.feature_extraction.text import TfidfVectorizer\n",
        "import numpy as np\n",
        "import gc\n",
        "from copy import deepcopy\n",
        "import warnings\n",
        "import transformers \n",
        "from transformers import RobertaModel, AutoTokenizer, AdamW, get_linear_schedule_with_warmup\n",
        "import torch\n",
        "from torch import nn, optim\n",
        "from torch.utils.data import Dataset, DataLoader\n",
        "import re\n",
        "from sklearn.model_selection import train_test_split\n",
        "from collections import defaultdict\n",
        "\n",
        "tqdm.pandas()"
      ],
      "metadata": {
        "id": "v6rRUgNmNaoJ"
      },
      "execution_count": null,
      "outputs": []
    },
    {
      "cell_type": "markdown",
      "source": [
        "# Скачивание датасета"
      ],
      "metadata": {
        "id": "QP831RtgVU1A"
      }
    },
    {
      "cell_type": "code",
      "execution_count": null,
      "metadata": {
        "id": "rElQQlqeIpyA",
        "colab": {
          "base_uri": "https://localhost:8080/"
        },
        "outputId": "665ac87b-3ff0-4be8-e6d7-61364d231dc7"
      },
      "outputs": [
        {
          "output_type": "stream",
          "name": "stdout",
          "text": [
            "mkdir: cannot create directory ‘/root/.kaggle’: File exists\n"
          ]
        }
      ],
      "source": [
        "! pip install -q kaggle\n",
        "! mkdir ~/.kaggle\n",
        "! cp kaggle.json ~/.kaggle/\n",
        "! chmod 600 ~/.kaggle/kaggle.json"
      ]
    },
    {
      "cell_type": "code",
      "source": [
        "! kaggle datasets download -d rmisra/imdb-spoiler-dataset"
      ],
      "metadata": {
        "colab": {
          "base_uri": "https://localhost:8080/"
        },
        "id": "6tnJAOT4LzSB",
        "outputId": "b3a3a5ea-3de0-4745-9cda-0dfc379cbb4f"
      },
      "execution_count": null,
      "outputs": [
        {
          "output_type": "stream",
          "name": "stdout",
          "text": [
            "imdb-spoiler-dataset.zip: Skipping, found more recently modified local copy (use --force to force download)\n"
          ]
        }
      ]
    },
    {
      "cell_type": "code",
      "source": [
        "with zipfile.ZipFile('imdb-spoiler-dataset.zip', 'r') as zip_ref:\n",
        "    zip_ref.extractall('data')"
      ],
      "metadata": {
        "id": "DKZssruiOOSR"
      },
      "execution_count": null,
      "outputs": []
    },
    {
      "cell_type": "code",
      "source": [
        "movie_details = pd.read_json('data/IMDB_movie_details.json', lines=True)\n",
        "reviews = pd.read_json('data/IMDB_reviews.json', lines=True)"
      ],
      "metadata": {
        "id": "uwviUJPJOj0k"
      },
      "execution_count": null,
      "outputs": []
    },
    {
      "cell_type": "code",
      "source": [
        "pat = re.compile(r'                Written by\\n.*')\n",
        "\n",
        "movie_details.plot_summary = movie_details.plot_summary.progress_apply(lambda x: re.sub(pat, \"\", x))"
      ],
      "metadata": {
        "colab": {
          "base_uri": "https://localhost:8080/"
        },
        "id": "4FZ1lMUyoV9V",
        "outputId": "81b48e12-776e-45e5-90f2-f969c23b402e"
      },
      "execution_count": null,
      "outputs": [
        {
          "output_type": "stream",
          "name": "stderr",
          "text": [
            "100%|██████████| 1572/1572 [00:00<00:00, 89349.35it/s]\n"
          ]
        }
      ]
    },
    {
      "cell_type": "markdown",
      "source": [
        "# Выравнивание классов"
      ],
      "metadata": {
        "id": "Q8poqy-LZV4m"
      }
    },
    {
      "cell_type": "code",
      "source": [
        "# LEARNING PARAMS\n",
        "\n",
        "MODEL_NAME = 'aychang/roberta-base-imdb'\n",
        "MAX_LEN = 200\n",
        "RANDOM_SEED = 4\n",
        "BATCH_SIZE = 64\n",
        "EPOCHS = 10\n",
        "\n",
        "np.random.seed(RANDOM_SEED)\n",
        "torch.manual_seed(RANDOM_SEED)\n",
        "device = torch.device(\"cuda:0\" if torch.cuda.is_available() else \"cpu\")"
      ],
      "metadata": {
        "id": "tVa-22X1hNLb"
      },
      "execution_count": null,
      "outputs": []
    },
    {
      "cell_type": "code",
      "source": [
        "nsp = reviews[reviews['is_spoiler'] == False].sample(n=16000, random_state=RANDOM_SEED)\n",
        "sp = reviews[reviews['is_spoiler'] == True].sample(n=16000, random_state=RANDOM_SEED)\n",
        "\n",
        "all = nsp.append(sp)\n",
        "all.sort_index(inplace=True)"
      ],
      "metadata": {
        "colab": {
          "base_uri": "https://localhost:8080/"
        },
        "id": "XxOzFGbzd8x5",
        "outputId": "51db79e2-1925-4e9a-fad5-95006ab375d0"
      },
      "execution_count": null,
      "outputs": [
        {
          "output_type": "stream",
          "name": "stderr",
          "text": [
            "<ipython-input-8-5e8c9efd873d>:4: FutureWarning: The frame.append method is deprecated and will be removed from pandas in a future version. Use pandas.concat instead.\n",
            "  all = nsp.append(sp)\n"
          ]
        }
      ]
    },
    {
      "cell_type": "code",
      "source": [
        "all = pd.merge(all, movie_details, on='movie_id')"
      ],
      "metadata": {
        "id": "IAehB5cGmbn3"
      },
      "execution_count": null,
      "outputs": []
    },
    {
      "cell_type": "code",
      "source": [
        "tokenizer = AutoTokenizer.from_pretrained(MODEL_NAME)"
      ],
      "metadata": {
        "id": "aJeaN74HkwAI"
      },
      "execution_count": null,
      "outputs": []
    },
    {
      "cell_type": "code",
      "source": [
        "class IMDB_spoiler_dataset(Dataset):\n",
        "\n",
        "  def __init__(self, reviews, plot_summaries, targets, tokenizer, max_len, encode_plot=False):\n",
        "    self.reviews = reviews\n",
        "    self.plot_summaries = plot_summaries\n",
        "    self.targets = targets\n",
        "    self.tokenizer = tokenizer\n",
        "    self.max_len = max_len\n",
        "    self.encode_plot = encode_plot\n",
        "  \n",
        "  def __len__(self):\n",
        "    return len(self.reviews)\n",
        "  \n",
        "  def __getitem__(self, item):\n",
        "    review = str(self.reviews[item])\n",
        "    plot_summary = str(self.plot_summaries[item])\n",
        "    target = self.targets[item]\n",
        "\n",
        "    if self.encode_plot:\n",
        "        encoding = self.tokenizer(\n",
        "            review, \n",
        "            plot_summary,\n",
        "            max_length=self.max_len,\n",
        "            return_token_type_ids=False,\n",
        "            padding='max_length',\n",
        "            truncation=True,\n",
        "            return_tensors='pt',\n",
        "        )\n",
        "\n",
        "    else:\n",
        "        encoding = self.tokenizer(\n",
        "            review,\n",
        "            max_length=self.max_len,\n",
        "            return_token_type_ids=False,\n",
        "            padding='max_length',\n",
        "            truncation=True,\n",
        "            return_tensors='pt',\n",
        "        )\n",
        "\n",
        "    res = {\n",
        "      'review_text': review,\n",
        "      'plot_summary_text': plot_summary,\n",
        "      'input_ids': encoding['input_ids'].flatten(),\n",
        "      'attention_mask': encoding['attention_mask'].flatten(),\n",
        "      'targets': torch.tensor(target, dtype=torch.long)\n",
        "    }\n",
        "    \n",
        "    return res"
      ],
      "metadata": {
        "id": "ClNWlO2okwfc"
      },
      "execution_count": null,
      "outputs": []
    },
    {
      "cell_type": "code",
      "source": [
        "df_train, df_test = train_test_split(all, test_size=0.2, random_state=RANDOM_SEED)\n",
        "df_val, df_test = train_test_split(df_test, test_size=0.5, random_state=RANDOM_SEED)"
      ],
      "metadata": {
        "id": "JZPiIoJNuT23"
      },
      "execution_count": null,
      "outputs": []
    },
    {
      "cell_type": "code",
      "source": [
        "del reviews\n",
        "del movie_details\n",
        "del nsp\n",
        "del sp\n",
        "del all\n",
        "\n",
        "gc.collect()"
      ],
      "metadata": {
        "colab": {
          "base_uri": "https://localhost:8080/"
        },
        "id": "c5wDNjoEpQoN",
        "outputId": "1e4f0085-25de-4699-d853-211838b16224"
      },
      "execution_count": null,
      "outputs": [
        {
          "output_type": "execute_result",
          "data": {
            "text/plain": [
              "41"
            ]
          },
          "metadata": {},
          "execution_count": 13
        }
      ]
    },
    {
      "cell_type": "code",
      "source": [
        "def create_data_loader(df, tokenizer, max_len=MAX_LEN, batch_size=BATCH_SIZE):\n",
        "  ds = IMDB_spoiler_dataset(\n",
        "    reviews=df.review_text.to_numpy(),\n",
        "    plot_summaries=df.plot_summary.to_numpy(),\n",
        "    targets=df.is_spoiler.to_numpy(),\n",
        "    tokenizer=tokenizer,\n",
        "    max_len=max_len,\n",
        "    encode_plot=True\n",
        "  )\n",
        "\n",
        "  return DataLoader(\n",
        "    ds,\n",
        "    batch_size=batch_size,\n",
        "    num_workers=4\n",
        "  )"
      ],
      "metadata": {
        "id": "DiC2ggM30Y2C"
      },
      "execution_count": null,
      "outputs": []
    },
    {
      "cell_type": "code",
      "source": [
        "train_data_loader = create_data_loader(df_train, tokenizer)\n",
        "test_data_loader = create_data_loader(df_test, tokenizer)\n",
        "val_data_loader = create_data_loader(df_val, tokenizer)"
      ],
      "metadata": {
        "colab": {
          "base_uri": "https://localhost:8080/"
        },
        "id": "9uoKr8cL1EZ9",
        "outputId": "fcc51c43-5b4b-41d2-f2eb-0b2bae7d6574"
      },
      "execution_count": null,
      "outputs": [
        {
          "output_type": "stream",
          "name": "stderr",
          "text": [
            "/usr/local/lib/python3.9/dist-packages/torch/utils/data/dataloader.py:554: UserWarning: This DataLoader will create 4 worker processes in total. Our suggested max number of worker in current system is 2, which is smaller than what this DataLoader is going to create. Please be aware that excessive worker creation might get DataLoader running slow or even freeze, lower the worker number to avoid potential slowness/freeze if necessary.\n",
            "  warnings.warn(_create_warning_msg(\n"
          ]
        }
      ]
    },
    {
      "cell_type": "code",
      "source": [
        "class SpoilerClassifier(nn.Module):\n",
        "\n",
        "  def __init__(self, n_classes=2):\n",
        "    super(SpoilerClassifier, self).__init__()\n",
        "    self.roberta = RobertaModel.from_pretrained(MODEL_NAME)\n",
        "    self.drop = nn.Dropout(p=0.1)\n",
        "    self.conv = nn.Conv2d(in_channels=1, out_channels=1, kernel_size=(6, 768), stride=(1, 1), padding=(0, 0))\n",
        "    self.linear1 = nn.Linear(195, 128)\n",
        "    self.ReLU = nn.ReLU()\n",
        "    self.linear2 = nn.Linear(128, 10)\n",
        "    self.out = nn.Linear(10, n_classes)\n",
        "\n",
        "  def forward(self, input_ids, attention_mask):\n",
        "    encoded = self.roberta(\n",
        "      input_ids=input_ids,\n",
        "      attention_mask=attention_mask\n",
        "    )\n",
        "    encoded = self.conv(encoded.last_hidden_state.unsqueeze(1))\n",
        "    encoded = self.linear1(encoded.view(BATCH_SIZE,-1))\n",
        "    encoded = self.ReLU(encoded)\n",
        "    encoded = self.linear2(encoded)\n",
        "    encoded = self.ReLU(encoded)\n",
        "    \n",
        "    return self.out(encoded)"
      ],
      "metadata": {
        "id": "a65ATOekAJ65"
      },
      "execution_count": null,
      "outputs": []
    },
    {
      "cell_type": "code",
      "source": [
        "model = SpoilerClassifier()\n",
        "model = model.to(device)"
      ],
      "metadata": {
        "id": "_KNMAo2GBSnI",
        "colab": {
          "base_uri": "https://localhost:8080/"
        },
        "outputId": "aa1d8ac4-42a4-4f13-fcc8-5077b2d30281"
      },
      "execution_count": null,
      "outputs": [
        {
          "output_type": "stream",
          "name": "stderr",
          "text": [
            "Some weights of the model checkpoint at aychang/roberta-base-imdb were not used when initializing RobertaModel: ['classifier.dense.weight', 'classifier.dense.bias', 'classifier.out_proj.weight', 'classifier.out_proj.bias']\n",
            "- This IS expected if you are initializing RobertaModel from the checkpoint of a model trained on another task or with another architecture (e.g. initializing a BertForSequenceClassification model from a BertForPreTraining model).\n",
            "- This IS NOT expected if you are initializing RobertaModel from the checkpoint of a model that you expect to be exactly identical (initializing a BertForSequenceClassification model from a BertForSequenceClassification model).\n",
            "Some weights of RobertaModel were not initialized from the model checkpoint at aychang/roberta-base-imdb and are newly initialized: ['roberta.pooler.dense.bias', 'roberta.pooler.dense.weight']\n",
            "You should probably TRAIN this model on a down-stream task to be able to use it for predictions and inference.\n"
          ]
        }
      ]
    },
    {
      "cell_type": "code",
      "source": [
        "gc.collect()"
      ],
      "metadata": {
        "colab": {
          "base_uri": "https://localhost:8080/"
        },
        "id": "CkZkEq3xo2FQ",
        "outputId": "92e36cc5-82af-4bff-92a5-d74ae87ea14b"
      },
      "execution_count": null,
      "outputs": [
        {
          "output_type": "execute_result",
          "data": {
            "text/plain": [
              "36"
            ]
          },
          "metadata": {},
          "execution_count": 18
        }
      ]
    },
    {
      "cell_type": "code",
      "source": [
        "from transformers.optimization import get_cosine_with_hard_restarts_schedule_with_warmup\n",
        "optimizer = AdamW(model.parameters(), lr=5e-5)\n",
        "total_steps = len(train_data_loader) * EPOCHS\n",
        "\n",
        "scheduler = get_cosine_with_hard_restarts_schedule_with_warmup(\n",
        "  optimizer,\n",
        "  num_warmup_steps=0,\n",
        "  num_training_steps=total_steps\n",
        ")\n",
        "\n",
        "loss_fn = nn.CrossEntropyLoss().to(device)"
      ],
      "metadata": {
        "id": "lEUByNhfuKub",
        "colab": {
          "base_uri": "https://localhost:8080/"
        },
        "outputId": "915ece8c-cfae-4fd6-8f37-4a2540af34bc"
      },
      "execution_count": null,
      "outputs": [
        {
          "output_type": "stream",
          "name": "stderr",
          "text": [
            "/usr/local/lib/python3.9/dist-packages/transformers/optimization.py:391: FutureWarning: This implementation of AdamW is deprecated and will be removed in a future version. Use the PyTorch implementation torch.optim.AdamW instead, or set `no_deprecation_warning=True` to disable this warning\n",
            "  warnings.warn(\n"
          ]
        }
      ]
    },
    {
      "cell_type": "code",
      "source": [
        "def train_epoch(\n",
        "  model, \n",
        "  data_loader, \n",
        "  loss_fn, \n",
        "  optimizer, \n",
        "  device, \n",
        "  scheduler, \n",
        "  n_examples\n",
        "):\n",
        "  model.train()\n",
        "\n",
        "  losses = []\n",
        "  correct_predictions = 0\n",
        "  \n",
        "  for d in tqdm(data_loader):\n",
        "    input_ids = d[\"input_ids\"].to(device)\n",
        "    attention_mask = d[\"attention_mask\"].to(device)\n",
        "    targets = d[\"targets\"].to(device)\n",
        "\n",
        "    outputs = model(\n",
        "            input_ids=input_ids,\n",
        "            attention_mask=attention_mask\n",
        "            )\n",
        "\n",
        "    _, preds = torch.max(outputs, dim=1)\n",
        "    loss = loss_fn(outputs, targets)\n",
        "\n",
        "    correct_predictions += torch.sum(preds == targets)\n",
        "    losses.append(loss.item())\n",
        "\n",
        "    loss.backward()\n",
        "    nn.utils.clip_grad_norm_(model.parameters(), max_norm=1.0)\n",
        "    optimizer.step()\n",
        "    scheduler.step()\n",
        "    optimizer.zero_grad()\n",
        "\n",
        "  return correct_predictions.double() / n_examples, np.mean(losses)"
      ],
      "metadata": {
        "id": "5LbG3v24xqMr"
      },
      "execution_count": null,
      "outputs": []
    },
    {
      "cell_type": "code",
      "source": [
        "def eval_model(model, data_loader, loss_fn, device, n_examples):\n",
        "  model = model.eval()\n",
        "\n",
        "  losses = []\n",
        "  correct_predictions = 0\n",
        "\n",
        "  with torch.no_grad():\n",
        "    for d in tqdm(data_loader):\n",
        "      input_ids = d[\"input_ids\"].to(device)\n",
        "      attention_mask = d[\"attention_mask\"].to(device)\n",
        "      targets = d[\"targets\"].to(device)\n",
        "\n",
        "      outputs = model(\n",
        "        input_ids=input_ids,\n",
        "        attention_mask=attention_mask\n",
        "      )\n",
        "      _, preds = torch.max(outputs, dim=1)\n",
        "\n",
        "      loss = loss_fn(outputs, targets)\n",
        "\n",
        "      correct_predictions += torch.sum(preds == targets)\n",
        "      losses.append(loss.item())\n",
        "\n",
        "  return correct_predictions.double() / n_examples, np.mean(losses)"
      ],
      "metadata": {
        "id": "RC6B_P_fxs69"
      },
      "execution_count": null,
      "outputs": []
    },
    {
      "cell_type": "code",
      "source": [
        "# for name, params in model.named_parameters():\n",
        "#     if name.startswith('roberta.e'):\n",
        "#         params.requires_grad = False\n",
        "#     else:\n",
        "#         print(name)"
      ],
      "metadata": {
        "id": "WIVIj-I65ReR"
      },
      "execution_count": null,
      "outputs": []
    },
    {
      "cell_type": "code",
      "source": [
        "import gc\n",
        "torch.cuda.empty_cache()\n",
        "gc.collect()"
      ],
      "metadata": {
        "colab": {
          "base_uri": "https://localhost:8080/"
        },
        "id": "qSxNE_I_LTd6",
        "outputId": "63c210d1-7c0d-48ca-fb9c-d89860aa73ac"
      },
      "execution_count": null,
      "outputs": [
        {
          "output_type": "execute_result",
          "data": {
            "text/plain": [
              "0"
            ]
          },
          "metadata": {},
          "execution_count": 23
        }
      ]
    },
    {
      "cell_type": "code",
      "source": [
        "def run_epoch(\n",
        "    epoch, \n",
        "    model,\n",
        "    train_data_loader,\n",
        "    val_data_loader, \n",
        "    loss_fn, \n",
        "    optimizer, \n",
        "    device, \n",
        "    scheduler, \n",
        "    df_train,\n",
        "    df_val,\n",
        "    best_accuracy,\n",
        "    history):\n",
        "    \n",
        "  print(f'Epoch {epoch + 1}/{EPOCHS}')\n",
        "  print('-' * 10)\n",
        "\n",
        "  train_acc, train_loss = train_epoch(\n",
        "    model,\n",
        "    train_data_loader,    \n",
        "    loss_fn, \n",
        "    optimizer, \n",
        "    device, \n",
        "    scheduler, \n",
        "    len(df_train)\n",
        "  )\n",
        "\n",
        "  print(f'Train loss {train_loss} accuracy {train_acc}')\n",
        "\n",
        "  val_acc, val_loss = eval_model(\n",
        "    model,\n",
        "    val_data_loader,\n",
        "    loss_fn, \n",
        "    device, \n",
        "    len(df_val)\n",
        "  )\n",
        "\n",
        "  print(f'Val loss {val_loss} accuracy {val_acc}')\n",
        "  print()\n",
        "\n",
        "  history['train_acc'].append(train_acc.cpu())\n",
        "  history['train_loss'].append(train_loss)\n",
        "  history['val_acc'].append(val_acc.cpu())\n",
        "  history['val_loss'].append(val_loss)\n",
        "\n",
        "  if val_acc > best_accuracy:\n",
        "    torch.save(model.state_dict(), 'best_model_state.bin')\n",
        "    best_accuracy = val_acc\n"
      ],
      "metadata": {
        "id": "voZ4pcrExvN6"
      },
      "execution_count": null,
      "outputs": []
    },
    {
      "cell_type": "code",
      "source": [
        "%%time\n",
        "\n",
        "history = defaultdict(list)\n",
        "best_accuracy = 0\n",
        "\n",
        "for epoch in range(EPOCHS):\n",
        "    run_epoch(\n",
        "        epoch, \n",
        "        model,\n",
        "        train_data_loader,\n",
        "        val_data_loader, \n",
        "        loss_fn, \n",
        "        optimizer, \n",
        "        device, \n",
        "        scheduler, \n",
        "        df_train,\n",
        "        df_val,\n",
        "        best_accuracy,\n",
        "        history\n",
        "    )\n"
      ],
      "metadata": {
        "colab": {
          "base_uri": "https://localhost:8080/"
        },
        "id": "7N46QklfNLn7",
        "outputId": "859bdd60-195f-4f52-93ba-2e7aa01bd691"
      },
      "execution_count": null,
      "outputs": [
        {
          "output_type": "stream",
          "name": "stdout",
          "text": [
            "Epoch 1/10\n",
            "----------\n"
          ]
        },
        {
          "output_type": "stream",
          "name": "stderr",
          "text": [
            "\r  0%|          | 0/400 [00:00<?, ?it/s]<ipython-input-11-9877a9a1200a>:45: DeprecationWarning: In future, it will be an error for 'np.bool_' scalars to be interpreted as an index\n",
            "  'targets': torch.tensor(target, dtype=torch.long)\n",
            "<ipython-input-11-9877a9a1200a>:45: DeprecationWarning: In future, it will be an error for 'np.bool_' scalars to be interpreted as an index\n",
            "  'targets': torch.tensor(target, dtype=torch.long)\n",
            "<ipython-input-11-9877a9a1200a>:45: DeprecationWarning: In future, it will be an error for 'np.bool_' scalars to be interpreted as an index\n",
            "  'targets': torch.tensor(target, dtype=torch.long)\n",
            "<ipython-input-11-9877a9a1200a>:45: DeprecationWarning: In future, it will be an error for 'np.bool_' scalars to be interpreted as an index\n",
            "  'targets': torch.tensor(target, dtype=torch.long)\n",
            "100%|██████████| 400/400 [14:19<00:00,  2.15s/it]\n"
          ]
        },
        {
          "output_type": "stream",
          "name": "stdout",
          "text": [
            "Train loss 0.6872199216485023 accuracy 0.537421875\n"
          ]
        },
        {
          "output_type": "stream",
          "name": "stderr",
          "text": [
            "\r  0%|          | 0/50 [00:00<?, ?it/s]<ipython-input-11-9877a9a1200a>:45: DeprecationWarning: In future, it will be an error for 'np.bool_' scalars to be interpreted as an index\n",
            "  'targets': torch.tensor(target, dtype=torch.long)\n",
            "<ipython-input-11-9877a9a1200a>:45: DeprecationWarning: In future, it will be an error for 'np.bool_' scalars to be interpreted as an index\n",
            "  'targets': torch.tensor(target, dtype=torch.long)\n",
            "<ipython-input-11-9877a9a1200a>:45: DeprecationWarning: In future, it will be an error for 'np.bool_' scalars to be interpreted as an index\n",
            "  'targets': torch.tensor(target, dtype=torch.long)\n",
            "<ipython-input-11-9877a9a1200a>:45: DeprecationWarning: In future, it will be an error for 'np.bool_' scalars to be interpreted as an index\n",
            "  'targets': torch.tensor(target, dtype=torch.long)\n",
            "100%|██████████| 50/50 [00:35<00:00,  1.40it/s]\n"
          ]
        },
        {
          "output_type": "stream",
          "name": "stdout",
          "text": [
            "Val loss 0.693265016078949 accuracy 0.49343750000000003\n",
            "\n",
            "Epoch 2/10\n",
            "----------\n"
          ]
        },
        {
          "output_type": "stream",
          "name": "stderr",
          "text": [
            "\r  0%|          | 0/400 [00:00<?, ?it/s]<ipython-input-11-9877a9a1200a>:45: DeprecationWarning: In future, it will be an error for 'np.bool_' scalars to be interpreted as an index\n",
            "  'targets': torch.tensor(target, dtype=torch.long)\n",
            "<ipython-input-11-9877a9a1200a>:45: DeprecationWarning: In future, it will be an error for 'np.bool_' scalars to be interpreted as an index\n",
            "  'targets': torch.tensor(target, dtype=torch.long)\n",
            "<ipython-input-11-9877a9a1200a>:45: DeprecationWarning: In future, it will be an error for 'np.bool_' scalars to be interpreted as an index\n",
            "  'targets': torch.tensor(target, dtype=torch.long)\n",
            "<ipython-input-11-9877a9a1200a>:45: DeprecationWarning: In future, it will be an error for 'np.bool_' scalars to be interpreted as an index\n",
            "  'targets': torch.tensor(target, dtype=torch.long)\n",
            "100%|██████████| 400/400 [14:31<00:00,  2.18s/it]\n"
          ]
        },
        {
          "output_type": "stream",
          "name": "stdout",
          "text": [
            "Train loss 0.6932745558023453 accuracy 0.4971875\n"
          ]
        },
        {
          "output_type": "stream",
          "name": "stderr",
          "text": [
            "\r  0%|          | 0/50 [00:00<?, ?it/s]<ipython-input-11-9877a9a1200a>:45: DeprecationWarning: In future, it will be an error for 'np.bool_' scalars to be interpreted as an index\n",
            "  'targets': torch.tensor(target, dtype=torch.long)\n",
            "<ipython-input-11-9877a9a1200a>:45: DeprecationWarning: In future, it will be an error for 'np.bool_' scalars to be interpreted as an index\n",
            "  'targets': torch.tensor(target, dtype=torch.long)\n",
            "<ipython-input-11-9877a9a1200a>:45: DeprecationWarning: In future, it will be an error for 'np.bool_' scalars to be interpreted as an index\n",
            "  'targets': torch.tensor(target, dtype=torch.long)\n",
            "<ipython-input-11-9877a9a1200a>:45: DeprecationWarning: In future, it will be an error for 'np.bool_' scalars to be interpreted as an index\n",
            "  'targets': torch.tensor(target, dtype=torch.long)\n",
            "100%|██████████| 50/50 [00:35<00:00,  1.40it/s]\n"
          ]
        },
        {
          "output_type": "stream",
          "name": "stdout",
          "text": [
            "Val loss 0.6932368707656861 accuracy 0.49343750000000003\n",
            "\n",
            "Epoch 3/10\n",
            "----------\n"
          ]
        },
        {
          "output_type": "stream",
          "name": "stderr",
          "text": [
            "\r  0%|          | 0/400 [00:00<?, ?it/s]<ipython-input-11-9877a9a1200a>:45: DeprecationWarning: In future, it will be an error for 'np.bool_' scalars to be interpreted as an index\n",
            "  'targets': torch.tensor(target, dtype=torch.long)\n",
            "<ipython-input-11-9877a9a1200a>:45: DeprecationWarning: In future, it will be an error for 'np.bool_' scalars to be interpreted as an index\n",
            "  'targets': torch.tensor(target, dtype=torch.long)\n",
            "<ipython-input-11-9877a9a1200a>:45: DeprecationWarning: In future, it will be an error for 'np.bool_' scalars to be interpreted as an index\n",
            "  'targets': torch.tensor(target, dtype=torch.long)\n",
            "<ipython-input-11-9877a9a1200a>:45: DeprecationWarning: In future, it will be an error for 'np.bool_' scalars to be interpreted as an index\n",
            "  'targets': torch.tensor(target, dtype=torch.long)\n",
            "100%|██████████| 400/400 [14:30<00:00,  2.18s/it]\n"
          ]
        },
        {
          "output_type": "stream",
          "name": "stdout",
          "text": [
            "Train loss 0.6933939272165298 accuracy 0.49941406250000003\n"
          ]
        },
        {
          "output_type": "stream",
          "name": "stderr",
          "text": [
            "\r  0%|          | 0/50 [00:00<?, ?it/s]<ipython-input-11-9877a9a1200a>:45: DeprecationWarning: In future, it will be an error for 'np.bool_' scalars to be interpreted as an index\n",
            "  'targets': torch.tensor(target, dtype=torch.long)\n",
            "<ipython-input-11-9877a9a1200a>:45: DeprecationWarning: In future, it will be an error for 'np.bool_' scalars to be interpreted as an index\n",
            "  'targets': torch.tensor(target, dtype=torch.long)\n",
            "<ipython-input-11-9877a9a1200a>:45: DeprecationWarning: In future, it will be an error for 'np.bool_' scalars to be interpreted as an index\n",
            "  'targets': torch.tensor(target, dtype=torch.long)\n",
            "<ipython-input-11-9877a9a1200a>:45: DeprecationWarning: In future, it will be an error for 'np.bool_' scalars to be interpreted as an index\n",
            "  'targets': torch.tensor(target, dtype=torch.long)\n",
            "100%|██████████| 50/50 [00:36<00:00,  1.39it/s]\n"
          ]
        },
        {
          "output_type": "stream",
          "name": "stdout",
          "text": [
            "Val loss 0.6932946503162384 accuracy 0.49343750000000003\n",
            "\n",
            "Epoch 4/10\n",
            "----------\n"
          ]
        },
        {
          "output_type": "stream",
          "name": "stderr",
          "text": [
            "\r  0%|          | 0/400 [00:00<?, ?it/s]<ipython-input-11-9877a9a1200a>:45: DeprecationWarning: In future, it will be an error for 'np.bool_' scalars to be interpreted as an index\n",
            "  'targets': torch.tensor(target, dtype=torch.long)\n",
            "<ipython-input-11-9877a9a1200a>:45: DeprecationWarning: In future, it will be an error for 'np.bool_' scalars to be interpreted as an index\n",
            "  'targets': torch.tensor(target, dtype=torch.long)\n",
            "<ipython-input-11-9877a9a1200a>:45: DeprecationWarning: In future, it will be an error for 'np.bool_' scalars to be interpreted as an index\n",
            "  'targets': torch.tensor(target, dtype=torch.long)\n",
            "<ipython-input-11-9877a9a1200a>:45: DeprecationWarning: In future, it will be an error for 'np.bool_' scalars to be interpreted as an index\n",
            "  'targets': torch.tensor(target, dtype=torch.long)\n",
            "100%|██████████| 400/400 [14:30<00:00,  2.18s/it]\n"
          ]
        },
        {
          "output_type": "stream",
          "name": "stdout",
          "text": [
            "Train loss 0.6933070446550846 accuracy 0.496953125\n"
          ]
        },
        {
          "output_type": "stream",
          "name": "stderr",
          "text": [
            "\r  0%|          | 0/50 [00:00<?, ?it/s]<ipython-input-11-9877a9a1200a>:45: DeprecationWarning: In future, it will be an error for 'np.bool_' scalars to be interpreted as an index\n",
            "  'targets': torch.tensor(target, dtype=torch.long)\n",
            "<ipython-input-11-9877a9a1200a>:45: DeprecationWarning: In future, it will be an error for 'np.bool_' scalars to be interpreted as an index\n",
            "  'targets': torch.tensor(target, dtype=torch.long)\n",
            "<ipython-input-11-9877a9a1200a>:45: DeprecationWarning: In future, it will be an error for 'np.bool_' scalars to be interpreted as an index\n",
            "  'targets': torch.tensor(target, dtype=torch.long)\n",
            "<ipython-input-11-9877a9a1200a>:45: DeprecationWarning: In future, it will be an error for 'np.bool_' scalars to be interpreted as an index\n",
            "  'targets': torch.tensor(target, dtype=torch.long)\n",
            "100%|██████████| 50/50 [00:35<00:00,  1.40it/s]\n"
          ]
        },
        {
          "output_type": "stream",
          "name": "stdout",
          "text": [
            "Val loss 0.693282927274704 accuracy 0.49343750000000003\n",
            "\n",
            "Epoch 5/10\n",
            "----------\n"
          ]
        },
        {
          "output_type": "stream",
          "name": "stderr",
          "text": [
            "\r  0%|          | 0/400 [00:00<?, ?it/s]<ipython-input-11-9877a9a1200a>:45: DeprecationWarning: In future, it will be an error for 'np.bool_' scalars to be interpreted as an index\n",
            "  'targets': torch.tensor(target, dtype=torch.long)\n",
            "<ipython-input-11-9877a9a1200a>:45: DeprecationWarning: In future, it will be an error for 'np.bool_' scalars to be interpreted as an index\n",
            "  'targets': torch.tensor(target, dtype=torch.long)\n",
            "<ipython-input-11-9877a9a1200a>:45: DeprecationWarning: In future, it will be an error for 'np.bool_' scalars to be interpreted as an index\n",
            "  'targets': torch.tensor(target, dtype=torch.long)\n",
            "<ipython-input-11-9877a9a1200a>:45: DeprecationWarning: In future, it will be an error for 'np.bool_' scalars to be interpreted as an index\n",
            "  'targets': torch.tensor(target, dtype=torch.long)\n",
            " 94%|█████████▍| 377/400 [13:43<00:50,  2.19s/it]"
          ]
        }
      ]
    },
    {
      "cell_type": "code",
      "source": [
        "plt.plot(history['train_acc'], label='train accuracy')\n",
        "plt.plot(history['val_acc'], label='validation accuracy')\n",
        "\n",
        "plt.title('Training history')\n",
        "plt.ylabel('Accuracy')\n",
        "plt.xlabel('Epoch')\n",
        "plt.legend()\n",
        "plt.ylim([0, 1]);"
      ],
      "metadata": {
        "id": "3ARkexZDx5ox",
        "colab": {
          "base_uri": "https://localhost:8080/",
          "height": 295
        },
        "outputId": "1e2bd9af-a142-4848-dffa-70c05b9a64cc"
      },
      "execution_count": null,
      "outputs": [
        {
          "output_type": "display_data",
          "data": {
            "text/plain": [
              "<Figure size 432x288 with 1 Axes>"
            ],
            "image/png": "[encoded data removed]"
          },
          "metadata": {
            "needs_background": "light"
          }
        }
      ]
    }
  ],
  "metadata": {
    "colab": {
      "provenance": [],
      "collapsed_sections": [
        "meMymOlDViio"
      ]
    },
    "kernelspec": {
      "display_name": "Python 3",
      "name": "python3"
    },
    "language_info": {
      "name": "python"
    },
    "accelerator": "GPU",
    "gpuClass": "standard"
  },
  "nbformat": 4,
  "nbformat_minor": 0
}