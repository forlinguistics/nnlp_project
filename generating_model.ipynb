{
  "nbformat": 4,
  "nbformat_minor": 0,
  "metadata": {
    "colab": {
      "provenance": []
    },
    "kernelspec": {
      "name": "python3",
      "display_name": "Python 3"
    },
    "language_info": {
      "name": "python"
    },
    "accelerator": "GPU",
    "gpuClass": "standard",
    "widgets": {
      "application/vnd.jupyter.widget-state+json": {
        "1b5e231d657443b1851346b782a07db1": {
          "model_module": "@jupyter-widgets/controls",
          "model_name": "HBoxModel",
          "model_module_version": "1.5.0",
          "state": {
            "_dom_classes": [],
            "_model_module": "@jupyter-widgets/controls",
            "_model_module_version": "1.5.0",
            "_model_name": "HBoxModel",
            "_view_count": null,
            "_view_module": "@jupyter-widgets/controls",
            "_view_module_version": "1.5.0",
            "_view_name": "HBoxView",
            "box_style": "",
            "children": [
              "IPY_MODEL_79dc071d7bfc4030ba7df15b97f4c170",
              "IPY_MODEL_71adf6dd246d48ecb030e7a1b4e061a1",
              "IPY_MODEL_cc591caee3dc41a7bce02b27f68fe1e6"
            ],
            "layout": "IPY_MODEL_7f46fe4b830b41619626d50dc80f8a20"
          }
        },
        "79dc071d7bfc4030ba7df15b97f4c170": {
          "model_module": "@jupyter-widgets/controls",
          "model_name": "HTMLModel",
          "model_module_version": "1.5.0",
          "state": {
            "_dom_classes": [],
            "_model_module": "@jupyter-widgets/controls",
            "_model_module_version": "1.5.0",
            "_model_name": "HTMLModel",
            "_view_count": null,
            "_view_module": "@jupyter-widgets/controls",
            "_view_module_version": "1.5.0",
            "_view_name": "HTMLView",
            "description": "",
            "description_tooltip": null,
            "layout": "IPY_MODEL_3778f6c9a3884e70bf6118f41c134c87",
            "placeholder": "​",
            "style": "IPY_MODEL_04955790eb394213b705bcafe2223378",
            "value": "Downloading (…)neration_config.json: 100%"
          }
        },
        "71adf6dd246d48ecb030e7a1b4e061a1": {
          "model_module": "@jupyter-widgets/controls",
          "model_name": "FloatProgressModel",
          "model_module_version": "1.5.0",
          "state": {
            "_dom_classes": [],
            "_model_module": "@jupyter-widgets/controls",
            "_model_module_version": "1.5.0",
            "_model_name": "FloatProgressModel",
            "_view_count": null,
            "_view_module": "@jupyter-widgets/controls",
            "_view_module_version": "1.5.0",
            "_view_name": "ProgressView",
            "bar_style": "success",
            "description": "",
            "description_tooltip": null,
            "layout": "IPY_MODEL_1169bc2292fc4f02888e8962567d85ff",
            "max": 124,
            "min": 0,
            "orientation": "horizontal",
            "style": "IPY_MODEL_6b817b6d78c84cf1a9256764a5a75514",
            "value": 124
          }
        },
        "cc591caee3dc41a7bce02b27f68fe1e6": {
          "model_module": "@jupyter-widgets/controls",
          "model_name": "HTMLModel",
          "model_module_version": "1.5.0",
          "state": {
            "_dom_classes": [],
            "_model_module": "@jupyter-widgets/controls",
            "_model_module_version": "1.5.0",
            "_model_name": "HTMLModel",
            "_view_count": null,
            "_view_module": "@jupyter-widgets/controls",
            "_view_module_version": "1.5.0",
            "_view_name": "HTMLView",
            "description": "",
            "description_tooltip": null,
            "layout": "IPY_MODEL_43915f8734c743a7bd0d73e40cd287be",
            "placeholder": "​",
            "style": "IPY_MODEL_24ef91b136b54804a551a8e1aec9a255",
            "value": " 124/124 [00:00&lt;00:00, 2.10kB/s]"
          }
        },
        "7f46fe4b830b41619626d50dc80f8a20": {
          "model_module": "@jupyter-widgets/base",
          "model_name": "LayoutModel",
          "model_module_version": "1.2.0",
          "state": {
            "_model_module": "@jupyter-widgets/base",
            "_model_module_version": "1.2.0",
            "_model_name": "LayoutModel",
            "_view_count": null,
            "_view_module": "@jupyter-widgets/base",
            "_view_module_version": "1.2.0",
            "_view_name": "LayoutView",
            "align_content": null,
            "align_items": null,
            "align_self": null,
            "border": null,
            "bottom": null,
            "display": null,
            "flex": null,
            "flex_flow": null,
            "grid_area": null,
            "grid_auto_columns": null,
            "grid_auto_flow": null,
            "grid_auto_rows": null,
            "grid_column": null,
            "grid_gap": null,
            "grid_row": null,
            "grid_template_areas": null,
            "grid_template_columns": null,
            "grid_template_rows": null,
            "height": null,
            "justify_content": null,
            "justify_items": null,
            "left": null,
            "margin": null,
            "max_height": null,
            "max_width": null,
            "min_height": null,
            "min_width": null,
            "object_fit": null,
            "object_position": null,
            "order": null,
            "overflow": null,
            "overflow_x": null,
            "overflow_y": null,
            "padding": null,
            "right": null,
            "top": null,
            "visibility": null,
            "width": null
          }
        },
        "3778f6c9a3884e70bf6118f41c134c87": {
          "model_module": "@jupyter-widgets/base",
          "model_name": "LayoutModel",
          "model_module_version": "1.2.0",
          "state": {
            "_model_module": "@jupyter-widgets/base",
            "_model_module_version": "1.2.0",
            "_model_name": "LayoutModel",
            "_view_count": null,
            "_view_module": "@jupyter-widgets/base",
            "_view_module_version": "1.2.0",
            "_view_name": "LayoutView",
            "align_content": null,
            "align_items": null,
            "align_self": null,
            "border": null,
            "bottom": null,
            "display": null,
            "flex": null,
            "flex_flow": null,
            "grid_area": null,
            "grid_auto_columns": null,
            "grid_auto_flow": null,
            "grid_auto_rows": null,
            "grid_column": null,
            "grid_gap": null,
            "grid_row": null,
            "grid_template_areas": null,
            "grid_template_columns": null,
            "grid_template_rows": null,
            "height": null,
            "justify_content": null,
            "justify_items": null,
            "left": null,
            "margin": null,
            "max_height": null,
            "max_width": null,
            "min_height": null,
            "min_width": null,
            "object_fit": null,
            "object_position": null,
            "order": null,
            "overflow": null,
            "overflow_x": null,
            "overflow_y": null,
            "padding": null,
            "right": null,
            "top": null,
            "visibility": null,
            "width": null
          }
        },
        "04955790eb394213b705bcafe2223378": {
          "model_module": "@jupyter-widgets/controls",
          "model_name": "DescriptionStyleModel",
          "model_module_version": "1.5.0",
          "state": {
            "_model_module": "@jupyter-widgets/controls",
            "_model_module_version": "1.5.0",
            "_model_name": "DescriptionStyleModel",
            "_view_count": null,
            "_view_module": "@jupyter-widgets/base",
            "_view_module_version": "1.2.0",
            "_view_name": "StyleView",
            "description_width": ""
          }
        },
        "1169bc2292fc4f02888e8962567d85ff": {
          "model_module": "@jupyter-widgets/base",
          "model_name": "LayoutModel",
          "model_module_version": "1.2.0",
          "state": {
            "_model_module": "@jupyter-widgets/base",
            "_model_module_version": "1.2.0",
            "_model_name": "LayoutModel",
            "_view_count": null,
            "_view_module": "@jupyter-widgets/base",
            "_view_module_version": "1.2.0",
            "_view_name": "LayoutView",
            "align_content": null,
            "align_items": null,
            "align_self": null,
            "border": null,
            "bottom": null,
            "display": null,
            "flex": null,
            "flex_flow": null,
            "grid_area": null,
            "grid_auto_columns": null,
            "grid_auto_flow": null,
            "grid_auto_rows": null,
            "grid_column": null,
            "grid_gap": null,
            "grid_row": null,
            "grid_template_areas": null,
            "grid_template_columns": null,
            "grid_template_rows": null,
            "height": null,
            "justify_content": null,
            "justify_items": null,
            "left": null,
            "margin": null,
            "max_height": null,
            "max_width": null,
            "min_height": null,
            "min_width": null,
            "object_fit": null,
            "object_position": null,
            "order": null,
            "overflow": null,
            "overflow_x": null,
            "overflow_y": null,
            "padding": null,
            "right": null,
            "top": null,
            "visibility": null,
            "width": null
          }
        },
        "6b817b6d78c84cf1a9256764a5a75514": {
          "model_module": "@jupyter-widgets/controls",
          "model_name": "ProgressStyleModel",
          "model_module_version": "1.5.0",
          "state": {
            "_model_module": "@jupyter-widgets/controls",
            "_model_module_version": "1.5.0",
            "_model_name": "ProgressStyleModel",
            "_view_count": null,
            "_view_module": "@jupyter-widgets/base",
            "_view_module_version": "1.2.0",
            "_view_name": "StyleView",
            "bar_color": null,
            "description_width": ""
          }
        },
        "43915f8734c743a7bd0d73e40cd287be": {
          "model_module": "@jupyter-widgets/base",
          "model_name": "LayoutModel",
          "model_module_version": "1.2.0",
          "state": {
            "_model_module": "@jupyter-widgets/base",
            "_model_module_version": "1.2.0",
            "_model_name": "LayoutModel",
            "_view_count": null,
            "_view_module": "@jupyter-widgets/base",
            "_view_module_version": "1.2.0",
            "_view_name": "LayoutView",
            "align_content": null,
            "align_items": null,
            "align_self": null,
            "border": null,
            "bottom": null,
            "display": null,
            "flex": null,
            "flex_flow": null,
            "grid_area": null,
            "grid_auto_columns": null,
            "grid_auto_flow": null,
            "grid_auto_rows": null,
            "grid_column": null,
            "grid_gap": null,
            "grid_row": null,
            "grid_template_areas": null,
            "grid_template_columns": null,
            "grid_template_rows": null,
            "height": null,
            "justify_content": null,
            "justify_items": null,
            "left": null,
            "margin": null,
            "max_height": null,
            "max_width": null,
            "min_height": null,
            "min_width": null,
            "object_fit": null,
            "object_position": null,
            "order": null,
            "overflow": null,
            "overflow_x": null,
            "overflow_y": null,
            "padding": null,
            "right": null,
            "top": null,
            "visibility": null,
            "width": null
          }
        },
        "24ef91b136b54804a551a8e1aec9a255": {
          "model_module": "@jupyter-widgets/controls",
          "model_name": "DescriptionStyleModel",
          "model_module_version": "1.5.0",
          "state": {
            "_model_module": "@jupyter-widgets/controls",
            "_model_module_version": "1.5.0",
            "_model_name": "DescriptionStyleModel",
            "_view_count": null,
            "_view_module": "@jupyter-widgets/base",
            "_view_module_version": "1.2.0",
            "_view_name": "StyleView",
            "description_width": ""
          }
        },
        "26b67cb86bd84fe9b2bbc9e070cae053": {
          "model_module": "@jupyter-widgets/controls",
          "model_name": "HBoxModel",
          "model_module_version": "1.5.0",
          "state": {
            "_dom_classes": [],
            "_model_module": "@jupyter-widgets/controls",
            "_model_module_version": "1.5.0",
            "_model_name": "HBoxModel",
            "_view_count": null,
            "_view_module": "@jupyter-widgets/controls",
            "_view_module_version": "1.5.0",
            "_view_name": "HBoxView",
            "box_style": "",
            "children": [
              "IPY_MODEL_671a0c5200a14baf9cf4d8ec04bf6927",
              "IPY_MODEL_79a8a0af44434042bf730596cb07147c",
              "IPY_MODEL_f9558238f2104202a3365278591fe6b9"
            ],
            "layout": "IPY_MODEL_86254762669644988344c34e96375858"
          }
        },
        "671a0c5200a14baf9cf4d8ec04bf6927": {
          "model_module": "@jupyter-widgets/controls",
          "model_name": "HTMLModel",
          "model_module_version": "1.5.0",
          "state": {
            "_dom_classes": [],
            "_model_module": "@jupyter-widgets/controls",
            "_model_module_version": "1.5.0",
            "_model_name": "HTMLModel",
            "_view_count": null,
            "_view_module": "@jupyter-widgets/controls",
            "_view_module_version": "1.5.0",
            "_view_name": "HTMLView",
            "description": "",
            "description_tooltip": null,
            "layout": "IPY_MODEL_c1d53fb99f824d33b830fda3d5af8234",
            "placeholder": "​",
            "style": "IPY_MODEL_08c9007a14294c1c9a071aa934ac8e04",
            "value": "Downloading (…)/main/tokenizer.json: 100%"
          }
        },
        "79a8a0af44434042bf730596cb07147c": {
          "model_module": "@jupyter-widgets/controls",
          "model_name": "FloatProgressModel",
          "model_module_version": "1.5.0",
          "state": {
            "_dom_classes": [],
            "_model_module": "@jupyter-widgets/controls",
            "_model_module_version": "1.5.0",
            "_model_name": "FloatProgressModel",
            "_view_count": null,
            "_view_module": "@jupyter-widgets/controls",
            "_view_module_version": "1.5.0",
            "_view_name": "ProgressView",
            "bar_style": "success",
            "description": "",
            "description_tooltip": null,
            "layout": "IPY_MODEL_e2519fc65e4147ea9351e79fd61f6fe9",
            "max": 1355256,
            "min": 0,
            "orientation": "horizontal",
            "style": "IPY_MODEL_d46afe40c047422f9dd443bb4dc35a46",
            "value": 1355256
          }
        },
        "f9558238f2104202a3365278591fe6b9": {
          "model_module": "@jupyter-widgets/controls",
          "model_name": "HTMLModel",
          "model_module_version": "1.5.0",
          "state": {
            "_dom_classes": [],
            "_model_module": "@jupyter-widgets/controls",
            "_model_module_version": "1.5.0",
            "_model_name": "HTMLModel",
            "_view_count": null,
            "_view_module": "@jupyter-widgets/controls",
            "_view_module_version": "1.5.0",
            "_view_name": "HTMLView",
            "description": "",
            "description_tooltip": null,
            "layout": "IPY_MODEL_7b90cd41439d45f7bdbde73bbf91a78e",
            "placeholder": "​",
            "style": "IPY_MODEL_332f228a0f9a45009cd7fafbfcd80bb9",
            "value": " 1.36M/1.36M [00:00&lt;00:00, 7.90MB/s]"
          }
        },
        "86254762669644988344c34e96375858": {
          "model_module": "@jupyter-widgets/base",
          "model_name": "LayoutModel",
          "model_module_version": "1.2.0",
          "state": {
            "_model_module": "@jupyter-widgets/base",
            "_model_module_version": "1.2.0",
            "_model_name": "LayoutModel",
            "_view_count": null,
            "_view_module": "@jupyter-widgets/base",
            "_view_module_version": "1.2.0",
            "_view_name": "LayoutView",
            "align_content": null,
            "align_items": null,
            "align_self": null,
            "border": null,
            "bottom": null,
            "display": null,
            "flex": null,
            "flex_flow": null,
            "grid_area": null,
            "grid_auto_columns": null,
            "grid_auto_flow": null,
            "grid_auto_rows": null,
            "grid_column": null,
            "grid_gap": null,
            "grid_row": null,
            "grid_template_areas": null,
            "grid_template_columns": null,
            "grid_template_rows": null,
            "height": null,
            "justify_content": null,
            "justify_items": null,
            "left": null,
            "margin": null,
            "max_height": null,
            "max_width": null,
            "min_height": null,
            "min_width": null,
            "object_fit": null,
            "object_position": null,
            "order": null,
            "overflow": null,
            "overflow_x": null,
            "overflow_y": null,
            "padding": null,
            "right": null,
            "top": null,
            "visibility": null,
            "width": null
          }
        },
        "c1d53fb99f824d33b830fda3d5af8234": {
          "model_module": "@jupyter-widgets/base",
          "model_name": "LayoutModel",
          "model_module_version": "1.2.0",
          "state": {
            "_model_module": "@jupyter-widgets/base",
            "_model_module_version": "1.2.0",
            "_model_name": "LayoutModel",
            "_view_count": null,
            "_view_module": "@jupyter-widgets/base",
            "_view_module_version": "1.2.0",
            "_view_name": "LayoutView",
            "align_content": null,
            "align_items": null,
            "align_self": null,
            "border": null,
            "bottom": null,
            "display": null,
            "flex": null,
            "flex_flow": null,
            "grid_area": null,
            "grid_auto_columns": null,
            "grid_auto_flow": null,
            "grid_auto_rows": null,
            "grid_column": null,
            "grid_gap": null,
            "grid_row": null,
            "grid_template_areas": null,
            "grid_template_columns": null,
            "grid_template_rows": null,
            "height": null,
            "justify_content": null,
            "justify_items": null,
            "left": null,
            "margin": null,
            "max_height": null,
            "max_width": null,
            "min_height": null,
            "min_width": null,
            "object_fit": null,
            "object_position": null,
            "order": null,
            "overflow": null,
            "overflow_x": null,
            "overflow_y": null,
            "padding": null,
            "right": null,
            "top": null,
            "visibility": null,
            "width": null
          }
        },
        "08c9007a14294c1c9a071aa934ac8e04": {
          "model_module": "@jupyter-widgets/controls",
          "model_name": "DescriptionStyleModel",
          "model_module_version": "1.5.0",
          "state": {
            "_model_module": "@jupyter-widgets/controls",
            "_model_module_version": "1.5.0",
            "_model_name": "DescriptionStyleModel",
            "_view_count": null,
            "_view_module": "@jupyter-widgets/base",
            "_view_module_version": "1.2.0",
            "_view_name": "StyleView",
            "description_width": ""
          }
        },
        "e2519fc65e4147ea9351e79fd61f6fe9": {
          "model_module": "@jupyter-widgets/base",
          "model_name": "LayoutModel",
          "model_module_version": "1.2.0",
          "state": {
            "_model_module": "@jupyter-widgets/base",
            "_model_module_version": "1.2.0",
            "_model_name": "LayoutModel",
            "_view_count": null,
            "_view_module": "@jupyter-widgets/base",
            "_view_module_version": "1.2.0",
            "_view_name": "LayoutView",
            "align_content": null,
            "align_items": null,
            "align_self": null,
            "border": null,
            "bottom": null,
            "display": null,
            "flex": null,
            "flex_flow": null,
            "grid_area": null,
            "grid_auto_columns": null,
            "grid_auto_flow": null,
            "grid_auto_rows": null,
            "grid_column": null,
            "grid_gap": null,
            "grid_row": null,
            "grid_template_areas": null,
            "grid_template_columns": null,
            "grid_template_rows": null,
            "height": null,
            "justify_content": null,
            "justify_items": null,
            "left": null,
            "margin": null,
            "max_height": null,
            "max_width": null,
            "min_height": null,
            "min_width": null,
            "object_fit": null,
            "object_position": null,
            "order": null,
            "overflow": null,
            "overflow_x": null,
            "overflow_y": null,
            "padding": null,
            "right": null,
            "top": null,
            "visibility": null,
            "width": null
          }
        },
        "d46afe40c047422f9dd443bb4dc35a46": {
          "model_module": "@jupyter-widgets/controls",
          "model_name": "ProgressStyleModel",
          "model_module_version": "1.5.0",
          "state": {
            "_model_module": "@jupyter-widgets/controls",
            "_model_module_version": "1.5.0",
            "_model_name": "ProgressStyleModel",
            "_view_count": null,
            "_view_module": "@jupyter-widgets/base",
            "_view_module_version": "1.2.0",
            "_view_name": "StyleView",
            "bar_color": null,
            "description_width": ""
          }
        },
        "7b90cd41439d45f7bdbde73bbf91a78e": {
          "model_module": "@jupyter-widgets/base",
          "model_name": "LayoutModel",
          "model_module_version": "1.2.0",
          "state": {
            "_model_module": "@jupyter-widgets/base",
            "_model_module_version": "1.2.0",
            "_model_name": "LayoutModel",
            "_view_count": null,
            "_view_module": "@jupyter-widgets/base",
            "_view_module_version": "1.2.0",
            "_view_name": "LayoutView",
            "align_content": null,
            "align_items": null,
            "align_self": null,
            "border": null,
            "bottom": null,
            "display": null,
            "flex": null,
            "flex_flow": null,
            "grid_area": null,
            "grid_auto_columns": null,
            "grid_auto_flow": null,
            "grid_auto_rows": null,
            "grid_column": null,
            "grid_gap": null,
            "grid_row": null,
            "grid_template_areas": null,
            "grid_template_columns": null,
            "grid_template_rows": null,
            "height": null,
            "justify_content": null,
            "justify_items": null,
            "left": null,
            "margin": null,
            "max_height": null,
            "max_width": null,
            "min_height": null,
            "min_width": null,
            "object_fit": null,
            "object_position": null,
            "order": null,
            "overflow": null,
            "overflow_x": null,
            "overflow_y": null,
            "padding": null,
            "right": null,
            "top": null,
            "visibility": null,
            "width": null
          }
        },
        "332f228a0f9a45009cd7fafbfcd80bb9": {
          "model_module": "@jupyter-widgets/controls",
          "model_name": "DescriptionStyleModel",
          "model_module_version": "1.5.0",
          "state": {
            "_model_module": "@jupyter-widgets/controls",
            "_model_module_version": "1.5.0",
            "_model_name": "DescriptionStyleModel",
            "_view_count": null,
            "_view_module": "@jupyter-widgets/base",
            "_view_module_version": "1.2.0",
            "_view_name": "StyleView",
            "description_width": ""
          }
        }
      }
    }
  },
  "cells": [
    {
      "cell_type": "code",
      "execution_count": null,
      "metadata": {
        "colab": {
          "base_uri": "https://localhost:8080/"
        },
        "id": "ND-f7zNLtER-",
        "outputId": "82179061-c979-4556-a2c3-ea3aea6c0a6c"
      },
      "outputs": [
        {
          "output_type": "stream",
          "name": "stdout",
          "text": [
            "Looking in indexes: https://pypi.org/simple, https://us-python.pkg.dev/colab-wheels/public/simple/\n",
            "Collecting transformers\n",
            "  Downloading transformers-4.27.2-py3-none-any.whl (6.8 MB)\n",
            "\u001b[2K     \u001b[90m━━━━━━━━━━━━━━━━━━━━━━━━━━━━━━━━━━━━━━━━\u001b[0m \u001b[32m6.8/6.8 MB\u001b[0m \u001b[31m57.3 MB/s\u001b[0m eta \u001b[36m0:00:00\u001b[0m\n",
            "\u001b[?25hRequirement already satisfied: packaging>=20.0 in /usr/local/lib/python3.9/dist-packages (from transformers) (23.0)\n",
            "Requirement already satisfied: requests in /usr/local/lib/python3.9/dist-packages (from transformers) (2.27.1)\n",
            "Requirement already satisfied: tqdm>=4.27 in /usr/local/lib/python3.9/dist-packages (from transformers) (4.65.0)\n",
            "Requirement already satisfied: pyyaml>=5.1 in /usr/local/lib/python3.9/dist-packages (from transformers) (6.0)\n",
            "Collecting tokenizers!=0.11.3,<0.14,>=0.11.1\n",
            "  Downloading tokenizers-0.13.2-cp39-cp39-manylinux_2_17_x86_64.manylinux2014_x86_64.whl (7.6 MB)\n",
            "\u001b[2K     \u001b[90m━━━━━━━━━━━━━━━━━━━━━━━━━━━━━━━━━━━━━━━━\u001b[0m \u001b[32m7.6/7.6 MB\u001b[0m \u001b[31m108.2 MB/s\u001b[0m eta \u001b[36m0:00:00\u001b[0m\n",
            "\u001b[?25hRequirement already satisfied: filelock in /usr/local/lib/python3.9/dist-packages (from transformers) (3.10.0)\n",
            "Requirement already satisfied: numpy>=1.17 in /usr/local/lib/python3.9/dist-packages (from transformers) (1.22.4)\n",
            "Requirement already satisfied: regex!=2019.12.17 in /usr/local/lib/python3.9/dist-packages (from transformers) (2022.10.31)\n",
            "Collecting huggingface-hub<1.0,>=0.11.0\n",
            "  Downloading huggingface_hub-0.13.3-py3-none-any.whl (199 kB)\n",
            "\u001b[2K     \u001b[90m━━━━━━━━━━━━━━━━━━━━━━━━━━━━━━━━━━━━━━\u001b[0m \u001b[32m199.8/199.8 KB\u001b[0m \u001b[31m28.9 MB/s\u001b[0m eta \u001b[36m0:00:00\u001b[0m\n",
            "\u001b[?25hRequirement already satisfied: typing-extensions>=3.7.4.3 in /usr/local/lib/python3.9/dist-packages (from huggingface-hub<1.0,>=0.11.0->transformers) (4.5.0)\n",
            "Requirement already satisfied: urllib3<1.27,>=1.21.1 in /usr/local/lib/python3.9/dist-packages (from requests->transformers) (1.26.15)\n",
            "Requirement already satisfied: idna<4,>=2.5 in /usr/local/lib/python3.9/dist-packages (from requests->transformers) (3.4)\n",
            "Requirement already satisfied: certifi>=2017.4.17 in /usr/local/lib/python3.9/dist-packages (from requests->transformers) (2022.12.7)\n",
            "Requirement already satisfied: charset-normalizer~=2.0.0 in /usr/local/lib/python3.9/dist-packages (from requests->transformers) (2.0.12)\n",
            "Installing collected packages: tokenizers, huggingface-hub, transformers\n",
            "Successfully installed huggingface-hub-0.13.3 tokenizers-0.13.2 transformers-4.27.2\n"
          ]
        }
      ],
      "source": [
        "!pip install transformers\n"
      ]
    },
    {
      "cell_type": "code",
      "source": [
        "import re\n",
        "import json\n",
        "from sklearn.model_selection import train_test_split"
      ],
      "metadata": {
        "id": "cZfr0jDThFSO"
      },
      "execution_count": null,
      "outputs": []
    },
    {
      "cell_type": "code",
      "source": [
        "with open('/content/IMDB_reviews.json', encoding= 'utf-8') as f:\n",
        "  text = f.readlines()\n",
        "  data = []\n",
        "  for line in text[0:80001]:\n",
        "        pyth_data = json.loads(line)\n",
        "        data.append(pyth_data)\n",
        "  "
      ],
      "metadata": {
        "id": "5HSvu7o0fmeb"
      },
      "execution_count": 10,
      "outputs": []
    },
    {
      "cell_type": "code",
      "source": [
        "data[0]"
      ],
      "metadata": {
        "colab": {
          "base_uri": "https://localhost:8080/"
        },
        "id": "Ny94vI9tj5EG",
        "outputId": "8be1e9be-25ca-41f4-b14f-e7e4ca553ea0"
      },
      "execution_count": 11,
      "outputs": [
        {
          "output_type": "execute_result",
          "data": {
            "text/plain": [
              "{'review_date': '10 February 2006',\n",
              " 'movie_id': 'tt0111161',\n",
              " 'user_id': 'ur1898687',\n",
              " 'is_spoiler': True,\n",
              " 'review_text': 'In its Oscar year, Shawshank Redemption (written and directed by Frank Darabont, after the novella Rita Hayworth and the Shawshank Redemption, by Stephen King) was nominated for seven Academy Awards, and walked away with zero. Best Picture went to Forrest Gump, while Shawshank and Pulp Fiction were \"just happy to be nominated.\" Of course hindsight is 20/20, but while history looks back on Gump as a good film, Pulp and Redemption are remembered as some of the all-time best. Pulp, however, was a success from the word \"go,\" making a huge splash at Cannes and making its writer-director an American master after only two films. For Andy Dufresne and Co., success didn\\'t come easy. Fortunately, failure wasn\\'t a life sentence.After opening on 33 screens with take of $727,327, the $25M film fell fast from theatres and finished with a mere $28.3M. The reasons for failure are many. Firstly, the title is a clunker. While iconic to fans today, in 1994, people knew not and cared not what a \\'Shawshank\\' was. On the DVD, Tim Robbins laughs recounting fans congratulating him on \"that \\'Rickshaw\\' movie.\" Marketing-wise, the film\\'s a nightmare, as \\'prison drama\\' is a tough sell to women, and the story of love between two best friends doesn\\'t spell winner to men. Worst of all, the movie is slow as molasses. As Desson Thomson writes for the Washington Post, \"it wanders down subplots at every opportunity and ignores an abundance of narrative exit points before settling on its finale.\" But it is these same weaknesses that make the film so strong.Firstly, its setting. The opening aerial shots of the prison are a total eye-opener. This is an amazing piece of architecture, strong and Gothic in design. Immediately, the prison becomes a character. It casts its shadow over most of the film, its tall stone walls stretching above every shot. It towers over the men it contains, blotting out all memories of the outside world. Only Andy (Robbins) holds onto hope. It\\'s in music, it\\'s in the sandy beaches of Zihuatanejo; \"In here\\'s where you need it most,\" he says. \"You need it so you don\\'t forget. Forget that there are places in the world that aren\\'t made out of stone. That there\\'s a - there\\'s a - there\\'s something inside that\\'s yours, that they can\\'t touch.\" Red (Morgan Freeman) doesn\\'t think much of Andy at first, picking \"that tall glass o\\' milk with the silver spoon up his ass\" as the first new fish to crack. Andy says not a word, and losing his bet, Red resents him for it. But over time, as the two get to know each other, they quickly become the best of friends. This again, is one of the film\\'s major strengths. Many movies are about love, many flicks have a side-kick to the hero, but Shawshank is the only one I can think of that looks honestly at the love between two best friends. It seems odd that Hollywood would skip this relationship time and again, when it\\'s a feeling that weighs so much into everyone\\'s day to day lives. Perhaps it\\'s too sentimental to seem conventional, but Shawshank\\'s core friendship hits all the right notes, and the film is much better for it.It\\'s pacing is deliberate as well. As we spend the film watching the same actors, it is easy to forget that the movie\\'s timeline spans well over 20 years. Such a huge measure of time would pass slowly in reality, and would only be amplified in prison. And it\\'s not as if the film lacks interest in these moments. It still knows where it\\'s going, it merely intends on taking its sweet time getting there. It pays off as well, as the tedium of prison life makes the climax that much more exhilarating. For anyone who sees it, it is a moment never to be forgotten.With themes of faith and hope, there is a definite religious subtext to be found here. Quiet, selfless and carefree, Andy is an obvious Christ figure. Warden Norton (Bob Gunton) is obviously modeled on Richard Nixon, who, in his day, was as close to a personified Satan as they come. But if you aren\\'t looking for subtexts, the movie speaks to anyone in search of hope. It is a compelling drama, and a very moving film, perfectly written, acted and shot. They just don\\'t come much better than this.OVERALL SCORE: 9.8/10 = A+ The Shawshank Redemption served as a message of hope to Hollywood as well. More than any film in memory, it proved there is life after box office. Besting Forrest and Fiction, it ran solely on strong word of mouth and became the hottest rented film of 1995. It currently sits at #2 in the IMDb\\'s Top 250 Films, occasionally swapping spots with The Godfather as the top ranked film of all time -- redemption indeed. If you haven\\'t seen it yet, what the hell are you waiting for? As Andy says, \"It comes down a simple choice, really. Either get busy living, or get busy dying.\"',\n",
              " 'rating': '10',\n",
              " 'review_summary': 'A classic piece of unforgettable film-making.'}"
            ]
          },
          "metadata": {},
          "execution_count": 11
        }
      ]
    },
    {
      "cell_type": "code",
      "source": [
        "def add_spoiler_tag (data_list):\n",
        "    new_data_list = []\n",
        "    for elem in data_list:\n",
        "        origin_review_text = ' '.join(elem['review_text'].split(' ')[0:101])\n",
        "        if elem['is_spoiler'] == True:\n",
        "            elem['review_text'] = origin_review_text + ' is_spoiler' + ' true'\n",
        "            new_data_list.append(elem)\n",
        "        else:\n",
        "            elem['review_text'] = origin_review_text + ' is_spoiler' + ' false'\n",
        "            new_data_list.append(elem)\n",
        "    return new_data_list"
      ],
      "metadata": {
        "id": "KJMngRW5j7eg"
      },
      "execution_count": 30,
      "outputs": []
    },
    {
      "cell_type": "code",
      "source": [
        "train, test = train_test_split(data,test_size=0.2) \n",
        "print(\"Train dataset length: \"+str(len(train)))\n",
        "print(\"Test dataset length: \"+ str(len(test)))"
      ],
      "metadata": {
        "colab": {
          "base_uri": "https://localhost:8080/"
        },
        "id": "aZCz9-L4kHYy",
        "outputId": "94f9f594-75d9-4567-b67b-0f1e841aac7c"
      },
      "execution_count": 31,
      "outputs": [
        {
          "output_type": "stream",
          "name": "stdout",
          "text": [
            "Train dataset length: 64000\n",
            "Test dataset length: 16001\n"
          ]
        }
      ]
    },
    {
      "cell_type": "code",
      "source": [
        "def build_text_files(data_list, dest_path):\n",
        "  with open (dest_path, 'w', encoding = 'utf-8')as f:\n",
        "    data_l = []\n",
        "    for wlwm in data_list:\n",
        "      data_l.append(wlwm ['review_text'])\n",
        "    f.write(' '.join(data_l))\n",
        "    "
      ],
      "metadata": {
        "id": "kNrGd9FJkOZ9"
      },
      "execution_count": 37,
      "outputs": []
    },
    {
      "cell_type": "markdown",
      "source": [
        "В трейне добавляем специальный тег (\"spoiler\") к каждому тексту review, который будет сигнализировать, что дальше идет определение наличия/отсутствия спойлера в этом тексте"
      ],
      "metadata": {
        "id": "9lRduudvkRh6"
      }
    },
    {
      "cell_type": "code",
      "source": [
        "train = add_spoiler_tag(train)\n",
        "train[0:3]"
      ],
      "metadata": {
        "colab": {
          "base_uri": "https://localhost:8080/"
        },
        "id": "Jl2UcNMCkSRi",
        "outputId": "68c91fd1-7259-4600-d366-09eece4215d1"
      },
      "execution_count": 38,
      "outputs": [
        {
          "output_type": "execute_result",
          "data": {
            "text/plain": [
              "[{'review_date': '5 April 2005',\n",
              "  'movie_id': 'tt0116282',\n",
              "  'user_id': 'ur4798799',\n",
              "  'is_spoiler': True,\n",
              "  'review_text': \"Fargo is one of my favorite films of all time and in my opinion deserves to be in the top 10 films of the 90's. From the onset of the movie, with views of the snow covered North Dakota landscape and the beautiful and haunting music of composer Carter Burwell playing in the background until the very last scene, Fargo never lets up. This film is Joel and Ethan Cohen's masterpiece, a truly original and one of a kind work. Every aspect of the film is handled with the utmost precision and care. The screenplay, written by Joel and Ethan, is is_spoiler true\",\n",
              "  'rating': '9',\n",
              "  'review_summary': 'Excellent Film'},\n",
              " {'review_date': '15 August 2011',\n",
              "  'movie_id': 'tt0078748',\n",
              "  'user_id': 'ur25837689',\n",
              "  'is_spoiler': False,\n",
              "  'review_text': \"A ship's investigation of a distress signal given off on a distant planet introduces them to a savage creature that begins to hunt them down one-by-one inside the ship.While this may be regarded as a legendary film, this one instead comes across as overrated. While it may have a countless number of influences from the different aspects surrounding it (the set-design, ship, the alien, etc) the fact remains that, if taken on as a singular film devoid of any of its influences, this one isn't all that great. Plus, for all the imitations, none of it is really important to the is_spoiler false\",\n",
              "  'rating': '8',\n",
              "  'review_summary': 'Really good if you ignore the connections'},\n",
              " {'review_date': '21 September 2017',\n",
              "  'movie_id': 'tt0468569',\n",
              "  'user_id': 'ur57253593',\n",
              "  'is_spoiler': True,\n",
              "  'review_text': \"What I liked1. Heath Ledger as the Joker really did a great job on the role, no denying that2. Bruce and Alfred's connection was as good as ever3. Gordon actually felt like he had a purpose in this movie, unlike the sequel4. The action was quite amazing to watch and is to this day nine years laterWhat I didn't like1. The final act was frankly un needed2. It is impossible to watch this movie without thinking about Ledger's death3. Rachel Dawes was just as bad and un needed in this one as the first one. OverallA seven out of ten. It is_spoiler true\",\n",
              "  'rating': '7',\n",
              "  'review_summary': 'Good, but not great'}]"
            ]
          },
          "metadata": {},
          "execution_count": 38
        }
      ]
    },
    {
      "cell_type": "code",
      "source": [
        "build_text_files(train,'train_dataset.txt')\n",
        "build_text_files(test,'test_dataset.txt')"
      ],
      "metadata": {
        "id": "1LcwD1TkkV3N"
      },
      "execution_count": 39,
      "outputs": []
    },
    {
      "cell_type": "code",
      "source": [
        "train_path = 'train_dataset.txt'\n",
        "test_path = 'test_dataset.txt'"
      ],
      "metadata": {
        "id": "zkTAVHBQkZ4K"
      },
      "execution_count": 40,
      "outputs": []
    },
    {
      "cell_type": "code",
      "source": [
        "import torch"
      ],
      "metadata": {
        "id": "r2wEdGXpkrBP"
      },
      "execution_count": 22,
      "outputs": []
    },
    {
      "cell_type": "code",
      "source": [
        "torch.cuda.empty_cache()\n"
      ],
      "metadata": {
        "id": "WKC2ISYrkpas"
      },
      "execution_count": 41,
      "outputs": []
    },
    {
      "cell_type": "markdown",
      "source": [
        "Обучаем модельGPT2"
      ],
      "metadata": {
        "id": "M9Wi5vZKkeBr"
      }
    },
    {
      "cell_type": "code",
      "source": [
        "from transformers import GPT2Tokenizer, GPT2Model"
      ],
      "metadata": {
        "id": "9ve3cQsOkepX"
      },
      "execution_count": 19,
      "outputs": []
    },
    {
      "cell_type": "code",
      "source": [
        "tokenizer = GPT2Tokenizer.from_pretrained('gpt2')"
      ],
      "metadata": {
        "id": "gnRdLddJkiwL"
      },
      "execution_count": 42,
      "outputs": []
    },
    {
      "cell_type": "code",
      "source": [
        "from transformers import TextDataset, DataCollatorForLanguageModeling\n",
        "\n",
        "def load_dataset(train_path, test_path, tokenizer):\n",
        "    train_dataset = TextDataset(\n",
        "          tokenizer=tokenizer,\n",
        "          file_path=train_path,\n",
        "          block_size=128)\n",
        "     \n",
        "    test_dataset = TextDataset(\n",
        "          tokenizer=tokenizer,\n",
        "          file_path=test_path,\n",
        "          block_size=128)   \n",
        "    \n",
        "    data_collator = DataCollatorForLanguageModeling(\n",
        "        tokenizer=tokenizer, mlm=False,\n",
        "    )\n",
        "    return train_dataset,test_dataset,data_collator\n",
        "\n",
        "train_dataset, test_dataset, data_collator = load_dataset(train_path, test_path, tokenizer)"
      ],
      "metadata": {
        "colab": {
          "base_uri": "https://localhost:8080/"
        },
        "id": "TPi-djo8kuWT",
        "outputId": "cd83beb4-8ac5-4680-879e-e77546a264f3"
      },
      "execution_count": 43,
      "outputs": [
        {
          "output_type": "stream",
          "name": "stderr",
          "text": [
            "/usr/local/lib/python3.9/dist-packages/transformers/data/datasets/language_modeling.py:53: FutureWarning: This dataset will be removed from the library soon, preprocessing should be handled with the 🤗 Datasets library. You can have a look at this example script for pointers: https://github.com/huggingface/transformers/blob/main/examples/pytorch/language-modeling/run_mlm.py\n",
            "  warnings.warn(\n"
          ]
        }
      ]
    },
    {
      "cell_type": "code",
      "source": [
        "from transformers import Trainer, TrainingArguments,AutoModelWithLMHead\n",
        "model = AutoModelWithLMHead.from_pretrained(\"gpt2\")\n"
      ],
      "metadata": {
        "colab": {
          "base_uri": "https://localhost:8080/",
          "height": 104,
          "referenced_widgets": [
            "1b5e231d657443b1851346b782a07db1",
            "79dc071d7bfc4030ba7df15b97f4c170",
            "71adf6dd246d48ecb030e7a1b4e061a1",
            "cc591caee3dc41a7bce02b27f68fe1e6",
            "7f46fe4b830b41619626d50dc80f8a20",
            "3778f6c9a3884e70bf6118f41c134c87",
            "04955790eb394213b705bcafe2223378",
            "1169bc2292fc4f02888e8962567d85ff",
            "6b817b6d78c84cf1a9256764a5a75514",
            "43915f8734c743a7bd0d73e40cd287be",
            "24ef91b136b54804a551a8e1aec9a255"
          ]
        },
        "id": "1SUNPxtDk0d3",
        "outputId": "bf0aa230-43e1-446b-ae7a-7d60a1847418"
      },
      "execution_count": 47,
      "outputs": [
        {
          "output_type": "stream",
          "name": "stderr",
          "text": [
            "/usr/local/lib/python3.9/dist-packages/transformers/models/auto/modeling_auto.py:1295: FutureWarning: The class `AutoModelWithLMHead` is deprecated and will be removed in a future version. Please use `AutoModelForCausalLM` for causal language models, `AutoModelForMaskedLM` for masked language models and `AutoModelForSeq2SeqLM` for encoder-decoder models.\n",
            "  warnings.warn(\n"
          ]
        },
        {
          "output_type": "display_data",
          "data": {
            "text/plain": [
              "Downloading (…)neration_config.json:   0%|          | 0.00/124 [00:00<?, ?B/s]"
            ],
            "application/vnd.jupyter.widget-view+json": {
              "version_major": 2,
              "version_minor": 0,
              "model_id": "1b5e231d657443b1851346b782a07db1"
            }
          },
          "metadata": {}
        }
      ]
    },
    {
      "cell_type": "markdown",
      "source": [
        "Обучение модели:"
      ],
      "metadata": {
        "id": "oNUC-BNilV6O"
      }
    },
    {
      "cell_type": "code",
      "source": [
        "training_args = TrainingArguments(\n",
        "    output_dir=\"./gpt2-chef\", #The output directory\n",
        "    overwrite_output_dir=True, #overwrite the content of the output directory\n",
        "    num_train_epochs=2, # number of training epochs\n",
        "    per_device_train_batch_size=32, # batch size for training\n",
        "    per_device_eval_batch_size=64,  # batch size for evaluation\n",
        "    eval_steps = 400, # Number of update steps between two evaluations.\n",
        "    save_steps=800, # after # steps model is saved \n",
        "    warmup_steps=500, # number of warmup steps for learning rate scheduler\n",
        "    prediction_loss_only=True,\n",
        "    )\n",
        "\n",
        "\n",
        "trainer = Trainer(\n",
        "    model=model,\n",
        "    args=training_args,\n",
        "    data_collator=data_collator,\n",
        "    train_dataset=train_dataset,\n",
        "    eval_dataset=test_dataset,\n",
        ")"
      ],
      "metadata": {
        "id": "QDkYW-SplS4O"
      },
      "execution_count": 48,
      "outputs": []
    },
    {
      "cell_type": "code",
      "source": [
        "trainer.train()"
      ],
      "metadata": {
        "colab": {
          "base_uri": "https://localhost:8080/",
          "height": 607
        },
        "id": "z5PMtz-tliGF",
        "outputId": "89cc848e-37fb-40e7-d440-cad3f7868e91"
      },
      "execution_count": 49,
      "outputs": [
        {
          "data": {
            "text/html": [
              "\n",
              "    <div>\n",
              "      \n",
              "      <progress value='3593' max='3924' style='width:300px; height:20px; vertical-align: middle;'></progress>\n",
              "      [3593/3924 1:04:29 < 05:56, 0.93 it/s, Epoch 1.83/2]\n",
              "    </div>\n",
              "    <table border=\"1\" class=\"dataframe\">\n",
              "  <thead>\n",
              " <tr style=\"text-align: left;\">\n",
              "      <th>Step</th>\n",
              "      <th>Training Loss</th>\n",
              "    </tr>\n",
              "  </thead>\n",
              "  <tbody>\n",
              "    <tr>\n",
              "      <td>500</td>\n",
              "      <td>3.701400</td>\n",
              "    </tr>\n",
              "    <tr>\n",
              "      <td>1000</td>\n",
              "      <td>3.515100</td>\n",
              "    </tr>\n",
              "    <tr>\n",
              "      <td>1500</td>\n",
              "      <td>3.461700</td>\n",
              "    </tr>\n",
              "    <tr>\n",
              "      <td>2000</td>\n",
              "      <td>3.428100</td>\n",
              "    </tr>\n",
              "    <tr>\n",
              "      <td>2500</td>\n",
              "      <td>3.364700</td>\n",
              "    </tr>\n",
              "    <tr>\n",
              "      <td>3000</td>\n",
              "      <td>3.355900</td>\n",
              "    </tr>\n",
              "    <tr>\n",
              "      <td>3500</td>\n",
              "      <td>3.350300</td>\n",
              "    </tr>\n",
              "  </tbody>\n",
              "</table><p>"
            ],
            "text/plain": [
              "<IPython.core.display.HTML object>"
            ]
          },
          "metadata": {},
          "output_type": "display_data"
        },
        {
          "output_type": "display_data",
          "data": {
            "text/plain": [
              "<IPython.core.display.HTML object>"
            ],
            "text/html": [
              "\n",
              "    <div>\n",
              "      \n",
              "      <progress value='3924' max='3924' style='width:300px; height:20px; vertical-align: middle;'></progress>\n",
              "      [3924/3924 1:10:25, Epoch 2/2]\n",
              "    </div>\n",
              "    <table border=\"1\" class=\"dataframe\">\n",
              "  <thead>\n",
              " <tr style=\"text-align: left;\">\n",
              "      <th>Step</th>\n",
              "      <th>Training Loss</th>\n",
              "    </tr>\n",
              "  </thead>\n",
              "  <tbody>\n",
              "    <tr>\n",
              "      <td>500</td>\n",
              "      <td>3.701400</td>\n",
              "    </tr>\n",
              "    <tr>\n",
              "      <td>1000</td>\n",
              "      <td>3.515100</td>\n",
              "    </tr>\n",
              "    <tr>\n",
              "      <td>1500</td>\n",
              "      <td>3.461700</td>\n",
              "    </tr>\n",
              "    <tr>\n",
              "      <td>2000</td>\n",
              "      <td>3.428100</td>\n",
              "    </tr>\n",
              "    <tr>\n",
              "      <td>2500</td>\n",
              "      <td>3.364700</td>\n",
              "    </tr>\n",
              "    <tr>\n",
              "      <td>3000</td>\n",
              "      <td>3.355900</td>\n",
              "    </tr>\n",
              "    <tr>\n",
              "      <td>3500</td>\n",
              "      <td>3.350300</td>\n",
              "    </tr>\n",
              "  </tbody>\n",
              "</table><p>"
            ]
          },
          "metadata": {}
        },
        {
          "output_type": "execute_result",
          "data": {
            "text/plain": [
              "TrainOutput(global_step=3924, training_loss=3.4419599527248184, metrics={'train_runtime': 4229.8568, 'train_samples_per_second': 29.686, 'train_steps_per_second': 0.928, 'total_flos': 8202348822528000.0, 'train_loss': 3.4419599527248184, 'epoch': 2.0})"
            ]
          },
          "metadata": {},
          "execution_count": 49
        }
      ]
    },
    {
      "cell_type": "code",
      "source": [
        "trainer.save_model()"
      ],
      "metadata": {
        "id": "GxTUmBYo3C0W"
      },
      "execution_count": 50,
      "outputs": []
    },
    {
      "cell_type": "markdown",
      "source": [
        "## Инференс"
      ],
      "metadata": {
        "id": "fmpJjtLz3D4a"
      }
    },
    {
      "cell_type": "code",
      "source": [
        "from transformers import TFGPT2LMHeadModel\n"
      ],
      "metadata": {
        "id": "MYdt6FgH3OuF"
      },
      "execution_count": 51,
      "outputs": []
    },
    {
      "cell_type": "code",
      "source": [
        "model = TFGPT2LMHeadModel.from_pretrained(\"gpt2-chef\", from_pt=True, pad_token_id=tokenizer.eos_token_id)"
      ],
      "metadata": {
        "colab": {
          "base_uri": "https://localhost:8080/"
        },
        "id": "BhYOGm5g3Fx-",
        "outputId": "1360d530-0696-4971-a92a-1b03b9632fe5"
      },
      "execution_count": 52,
      "outputs": [
        {
          "output_type": "stream",
          "name": "stderr",
          "text": [
            "Some weights of the PyTorch model were not used when initializing the TF 2.0 model TFGPT2LMHeadModel: ['transformer.h.11.attn.masked_bias', 'transformer.h.8.attn.masked_bias', 'transformer.h.0.attn.masked_bias', 'transformer.h.2.attn.masked_bias', 'transformer.h.6.attn.masked_bias', 'transformer.h.10.attn.masked_bias', 'transformer.h.7.attn.masked_bias', 'transformer.h.9.attn.masked_bias', 'transformer.h.4.attn.masked_bias', 'transformer.h.5.attn.masked_bias', 'lm_head.weight', 'transformer.h.3.attn.masked_bias', 'transformer.h.1.attn.masked_bias']\n",
            "- This IS expected if you are initializing TFGPT2LMHeadModel from a PyTorch model trained on another task or with another architecture (e.g. initializing a TFBertForSequenceClassification model from a BertForPreTraining model).\n",
            "- This IS NOT expected if you are initializing TFGPT2LMHeadModel from a PyTorch model that you expect to be exactly identical (e.g. initializing a TFBertForSequenceClassification model from a BertForSequenceClassification model).\n",
            "All the weights of TFGPT2LMHeadModel were initialized from the PyTorch model.\n",
            "If your task is similar to the task the model of the checkpoint was trained on, you can already use TFGPT2LMHeadModel for predictions without further training.\n"
          ]
        }
      ]
    },
    {
      "cell_type": "code",
      "source": [
        "from transformers import pipeline\n",
        "chef = pipeline('text-generation',model='gpt2-chef', tokenizer='gpt2')"
      ],
      "metadata": {
        "colab": {
          "base_uri": "https://localhost:8080/",
          "height": 49,
          "referenced_widgets": [
            "26b67cb86bd84fe9b2bbc9e070cae053",
            "671a0c5200a14baf9cf4d8ec04bf6927",
            "79a8a0af44434042bf730596cb07147c",
            "f9558238f2104202a3365278591fe6b9",
            "86254762669644988344c34e96375858",
            "c1d53fb99f824d33b830fda3d5af8234",
            "08c9007a14294c1c9a071aa934ac8e04",
            "e2519fc65e4147ea9351e79fd61f6fe9",
            "d46afe40c047422f9dd443bb4dc35a46",
            "7b90cd41439d45f7bdbde73bbf91a78e",
            "332f228a0f9a45009cd7fafbfcd80bb9"
          ]
        },
        "id": "pY3T8H-E3Wh1",
        "outputId": "a7734fc0-2b2b-46c0-8327-3411381a89c8"
      },
      "execution_count": 53,
      "outputs": [
        {
          "output_type": "display_data",
          "data": {
            "text/plain": [
              "Downloading (…)/main/tokenizer.json:   0%|          | 0.00/1.36M [00:00<?, ?B/s]"
            ],
            "application/vnd.jupyter.widget-view+json": {
              "version_major": 2,
              "version_minor": 0,
              "model_id": "26b67cb86bd84fe9b2bbc9e070cae053"
            }
          },
          "metadata": {}
        }
      ]
    },
    {
      "cell_type": "code",
      "source": [
        "chef(\"Fargo is one of my favorite films of all time and in my opinion deserves to be in the top 10 films of the 90's.\")"
      ],
      "metadata": {
        "colab": {
          "base_uri": "https://localhost:8080/"
        },
        "id": "Seep8t2t3atR",
        "outputId": "f804d570-b31e-41f5-d7e1-9f780a8ce914"
      },
      "execution_count": 54,
      "outputs": [
        {
          "output_type": "stream",
          "name": "stderr",
          "text": [
            "/usr/local/lib/python3.9/dist-packages/transformers/generation/utils.py:1201: UserWarning: You have modified the pretrained model configuration to control generation. This is a deprecated strategy to control generation and will be removed soon, in a future version. Please use a generation configuration file (see https://huggingface.co/docs/transformers/main_classes/text_generation)\n",
            "  warnings.warn(\n",
            "Setting `pad_token_id` to `eos_token_id`:50256 for open-end generation.\n",
            "/usr/local/lib/python3.9/dist-packages/transformers/generation/utils.py:1288: UserWarning: Using `max_length`'s default (50) to control the generation length. This behaviour is deprecated and will be removed from the config in v5 of Transformers -- we recommend using `max_new_tokens` to control the maximum length of the generation.\n",
            "  warnings.warn(\n"
          ]
        },
        {
          "output_type": "execute_result",
          "data": {
            "text/plain": [
              "[{'generated_text': \"Fargo is one of my favorite films of all time and in my opinion deserves to be in the top 10 films of the 90's. The performances by Leonardo DiCaprio, Samuel L. Jackson, and Michael Caine all play good roles but\"}]"
            ]
          },
          "metadata": {},
          "execution_count": 54
        }
      ]
    },
    {
      "cell_type": "code",
      "source": [],
      "metadata": {
        "id": "P3an3IJQBCk-"
      },
      "execution_count": null,
      "outputs": []
    },
    {
      "cell_type": "code",
      "source": [
        "input_text1 = \"Fargo is one of my favorite films of all time and in my opinion deserves to be in the top 10 films of the 90's.\"\n",
        "input_text2 = \"Heath Ledger as the Joker really did a great job on the role, no denying that\""
      ],
      "metadata": {
        "id": "Y5l2yyd24PU8"
      },
      "execution_count": 55,
      "outputs": []
    },
    {
      "cell_type": "code",
      "source": [
        "import tensorflow as tf\n"
      ],
      "metadata": {
        "id": "bPNIhEFy4ClC"
      },
      "execution_count": 56,
      "outputs": []
    },
    {
      "cell_type": "code",
      "source": [
        "def spoiler_detect(generated_text):\n",
        "  new = str(generated_text) + \" is_spoiler\"\n",
        "  return new\n"
      ],
      "metadata": {
        "id": "pzfAKF9R53LK"
      },
      "execution_count": 63,
      "outputs": []
    },
    {
      "cell_type": "code",
      "source": [
        "test_sent_list = []\n",
        "for elem in test:\n",
        "  sent = elem['review_text'].split('.')[0]\n",
        "  test_sent_list.append(sent)"
      ],
      "metadata": {
        "id": "MpbGqHWKBD7V"
      },
      "execution_count": 91,
      "outputs": []
    },
    {
      "cell_type": "code",
      "source": [
        "len(test_sent_list)"
      ],
      "metadata": {
        "colab": {
          "base_uri": "https://localhost:8080/"
        },
        "id": "XLUi81EKBbYG",
        "outputId": "387497e9-29bb-4b4e-955b-ab55a495c4c3"
      },
      "execution_count": 92,
      "outputs": [
        {
          "output_type": "execute_result",
          "data": {
            "text/plain": [
              "16001"
            ]
          },
          "metadata": {},
          "execution_count": 92
        }
      ]
    },
    {
      "cell_type": "markdown",
      "source": [
        "Жадный поиск"
      ],
      "metadata": {
        "id": "WMNaKJxp4FYd"
      }
    },
    {
      "cell_type": "code",
      "source": [
        "tf.random.set_seed(0)\n",
        "input_ids = tokenizer.encode(input_text1,  return_tensors='tf')\n",
        "tf.random.set_seed(0)\n",
        "greedy_output = model.generate(input_ids, max_length=90)\n",
        "output = tokenizer.decode(greedy_output[0], skip_special_tokens=True)\n",
        "print(tokenizer.decode(greedy_output[0], skip_special_tokens=True))"
      ],
      "metadata": {
        "colab": {
          "base_uri": "https://localhost:8080/"
        },
        "id": "5bGESYnc4INj",
        "outputId": "3995e879-0753-4a39-8649-25870c7744e9"
      },
      "execution_count": 68,
      "outputs": [
        {
          "output_type": "stream",
          "name": "stdout",
          "text": [
            "Fargo is one of my favorite films of all time and in my opinion deserves to be in the top 10 films of the 90's. It is a film that is so well made and so well acted that it is hard to believe that it was made in the 90's. The acting is superb and the story is so well told that it is hard to believe that it was made in the 90's. The acting is superb and the story is\n"
          ]
        }
      ]
    },
    {
      "cell_type": "code",
      "source": [
        "input_ids2 = tokenizer.encode(input_text2,  return_tensors='tf')\n",
        "tf.random.set_seed(0)\n",
        "greedy_output2 = model.generate(input_ids2, max_length=90)\n",
        "print(tokenizer.decode(greedy_output2[0], skip_special_tokens=True))"
      ],
      "metadata": {
        "colab": {
          "base_uri": "https://localhost:8080/"
        },
        "id": "i1b9tWiy4e2c",
        "outputId": "736497eb-f45a-4138-d96b-376c22ffd5a5"
      },
      "execution_count": 69,
      "outputs": [
        {
          "output_type": "stream",
          "name": "stdout",
          "text": [
            "Heath Ledger as the Joker really did a great job on the role, no denying that he was a great actor. The Joker was a very good actor, but I think he was a bit too much of a villain for the role. I think that Heath Ledger was a bit too much of a villain for the role. I think that Heath Ledger was a bit too much of a villain for the role. I think that Heath Led\n"
          ]
        }
      ]
    },
    {
      "cell_type": "code",
      "source": [
        "greedy_list = []\n",
        "for sent in test_sent_list[0:501]:\n",
        "  if len(sent)<=90:\n",
        "    input_id = tokenizer.encode(sent, return_tensors='tf')\n",
        "    tf.random.set_seed(6)\n",
        "    greedy_output = model.generate(input_id, max_length=90)\n",
        "    greedy_list.append(tokenizer.decode(greedy_output[0], skip_special_tokens=True))\n",
        "len_list = len(greedy_list)\n",
        "greedy_spoil_alert_counter = 0\n",
        "for elem in greedy_list:\n",
        "  if \"<spoiler>\" in elem:\n",
        "    greedy_spoil_alert_counter+=1\n",
        "\n",
        "result = greedy_spoil_alert_counter/500\n",
        "print(result)"
      ],
      "metadata": {
        "id": "R0YS7GlcIMfx"
      },
      "execution_count": null,
      "outputs": []
    },
    {
      "cell_type": "markdown",
      "source": [
        "Beam search"
      ],
      "metadata": {
        "id": "DZAhHuPf4nxU"
      }
    },
    {
      "cell_type": "code",
      "source": [
        "tf.random.set_seed(0)\n",
        "beam_output = model.generate(\n",
        "    input_ids,  \n",
        "    max_length=90, \n",
        "    num_beams=5, \n",
        "    early_stopping=True\n",
        ")\n",
        "\n",
        "print(tokenizer.decode(beam_output[0], skip_special_tokens=True))"
      ],
      "metadata": {
        "colab": {
          "base_uri": "https://localhost:8080/"
        },
        "id": "6ZF97CwZ4peX",
        "outputId": "4631f025-538b-42c5-c2e1-45c2c85c6f8e"
      },
      "execution_count": 70,
      "outputs": [
        {
          "output_type": "stream",
          "name": "stdout",
          "text": [
            "Fargo is one of my favorite films of all time and in my opinion deserves to be in the top 10 films of the 90's. The acting is top notch, the direction is top notch, the story is top notch, and the acting is top notch. The acting is top notch, the direction is top notch, and the story is top notch. The acting is top notch, the direction is top notch, and the story is top notch\n"
          ]
        }
      ]
    },
    {
      "cell_type": "code",
      "source": [
        "tf.random.set_seed(0)\n",
        "beam_output2 = model.generate(\n",
        "    input_ids2,  \n",
        "    max_length=90, \n",
        "    num_beams=5, \n",
        "    early_stopping=True\n",
        ")\n",
        "\n",
        "print(tokenizer.decode(beam_output2[0], skip_special_tokens=True))"
      ],
      "metadata": {
        "colab": {
          "base_uri": "https://localhost:8080/"
        },
        "id": "Nav82SpK4s4U",
        "outputId": "a6bc08cd-a9d0-4df3-803c-20406ce8f5ac"
      },
      "execution_count": 71,
      "outputs": [
        {
          "output_type": "stream",
          "name": "stdout",
          "text": [
            "Heath Ledger as the Joker really did a great job on the role, no denying that he did a great job as the Joker, but he also did a great job as the Joker's father. The Joker's father is the Joker's father, and the Joker's father is the Joker's father. The Joker's father is the Joker's father, and the Joker's father is the Joker's father. The Joker's father is the Joker\n"
          ]
        }
      ]
    },
    {
      "cell_type": "code",
      "source": [
        "beam_list = []\n",
        "for sent in test_sent_list[0:501]:\n",
        "  if len(sent)<=90:\n",
        "      input_id1 = tokenizer.encode(sent, return_tensors='tf')\n",
        "      tf.random.set_seed(6)\n",
        "      beam_output = model.generate(input_id1,  max_length=90, num_beams=5, early_stopping=True)\n",
        "      beam_list.append(tokenizer.decode(beam_output[0], skip_special_tokens=True))\n",
        "len_list = len(beam_list)\n",
        "beam_spoil_alert_counter = 0\n",
        "for elem in beam_list:\n",
        "  if \"<spoiler>\" in elem:\n",
        "    beam_spoil_alert_counter+=1\n",
        "\n",
        "result_beam = beam_spoil_alert_counter/500\n",
        "print(result_beam)"
      ],
      "metadata": {
        "id": "vRfIJ6k_EIRA"
      },
      "execution_count": null,
      "outputs": []
    },
    {
      "cell_type": "markdown",
      "source": [
        "Sampling"
      ],
      "metadata": {
        "id": "bhhmDzym41JD"
      }
    },
    {
      "cell_type": "code",
      "source": [
        "tf.random.set_seed(0)\n",
        "sample_output = model.generate(\n",
        "    input_ids, \n",
        "    do_sample=True, \n",
        "    max_length=90, \n",
        "    top_k=0\n",
        ")\n",
        "\n",
        "print(tokenizer.decode(sample_output[0], skip_special_tokens=True))"
      ],
      "metadata": {
        "colab": {
          "base_uri": "https://localhost:8080/"
        },
        "id": "i8IvzGUb42mB",
        "outputId": "74487366-2f05-4b2c-ad00-fc6d792587aa"
      },
      "execution_count": 72,
      "outputs": [
        {
          "output_type": "stream",
          "name": "stdout",
          "text": [
            "Fargo is one of my favorite films of all time and in my opinion deserves to be in the top 10 films of the 90's. It is on IMDb 100% so I'm not going to stop trying to comment on it nevertheless.The ending I was pounced on at the end is nothing short of a precursor to Fight Club. It seems to me this is exactly like Brian De Palma's Double Indemnity' ending the <\n"
          ]
        }
      ]
    },
    {
      "cell_type": "code",
      "source": [
        "tf.random.set_seed(0)\n",
        "sample_output2 = model.generate(\n",
        "    input_ids2, \n",
        "    do_sample=True, \n",
        "    max_length=90, \n",
        "    top_k=0\n",
        ")\n",
        "\n",
        "print(tokenizer.decode(sample_output2[0], skip_special_tokens=True))"
      ],
      "metadata": {
        "colab": {
          "base_uri": "https://localhost:8080/"
        },
        "id": "tbQ4OD7o4s73",
        "outputId": "86477af9-1f67-41ce-f570-5c47fafdf4a2"
      },
      "execution_count": 74,
      "outputs": [
        {
          "output_type": "stream",
          "name": "stdout",
          "text": [
            "Heath Ledger as the Joker really did a great job on the role, no denying that the film was somewhat of a disappointment, although I was pleased to see Heath Ledger deliver his first bizarre action hero role, pitting a suave banker against an unlikely hero. Punished but effervescent as <spoiler> true  People don't like novels, but I just can't find anyone who pays any attention to the vast net of\n"
          ]
        }
      ]
    },
    {
      "cell_type": "code",
      "source": [
        "samol_list = []\n",
        "for sent in test_sent_list[0:501]:\n",
        "  if len(sent)<=90:\n",
        "      input_id2 = tokenizer.encode(sent, return_tensors='tf')\n",
        "      tf.random.set_seed(6)\n",
        "      sampl_output = model.generate(input_id2, do_sample=True, max_length=90, top_k=0)\n",
        "      samol_list.append(tokenizer.decode(sampl_output[0], skip_special_tokens=True))\n",
        "len_list = len(samol_list)\n",
        "sampl_spoil_alert_counter = 0\n",
        "for elem in samol_list:\n",
        "  if \"<spoiler>\" in elem:\n",
        "    sampl_spoil_alert_counter+=1\n",
        "\n",
        "result_sampl = sampl_spoil_alert_counter/500\n",
        "print(result_sampl)"
      ],
      "metadata": {
        "id": "4SzYRUIlEgyP"
      },
      "execution_count": null,
      "outputs": []
    },
    {
      "cell_type": "markdown",
      "source": [
        "Top-k sampling"
      ],
      "metadata": {
        "id": "FZb-oGzO5MqE"
      }
    },
    {
      "cell_type": "code",
      "source": [
        "tf.random.set_seed(5)\n",
        "sample_k_output = model.generate(\n",
        "    input_ids, \n",
        "    do_sample=True, \n",
        "    max_length=90, \n",
        "    top_k=50\n",
        ")\n",
        "\n",
        "print(tokenizer.decode(sample_k_output[0], skip_special_tokens=True))"
      ],
      "metadata": {
        "colab": {
          "base_uri": "https://localhost:8080/"
        },
        "id": "32TshWCl5PBR",
        "outputId": "8c641e21-d9fc-438c-bd06-0e073c4a385e"
      },
      "execution_count": 76,
      "outputs": [
        {
          "output_type": "stream",
          "name": "stdout",
          "text": [
            "Fargo is one of my favorite films of all time and in my opinion deserves to be in the top 10 films of the 90's. Even though the plot and story is one and the same story as the original, there are some parts that we can understand. The acting and the atmosphere of the film are beautiful and each of them make me feel like I am in such a dream life for the first time ever.The first hour, and two\n"
          ]
        }
      ]
    },
    {
      "cell_type": "code",
      "source": [
        "tf.random.set_seed(5)\n",
        "sample_k_output2 = model.generate(\n",
        "    input_ids2, \n",
        "    do_sample=True, \n",
        "    max_length=90, \n",
        "    top_k=50\n",
        ")\n",
        "\n",
        "print(tokenizer.decode(sample_k_output2[0], skip_special_tokens=True))"
      ],
      "metadata": {
        "colab": {
          "base_uri": "https://localhost:8080/"
        },
        "id": "_KPwXix55POF",
        "outputId": "5808fb89-4e8d-4184-c77a-cc7c065c2e84"
      },
      "execution_count": 79,
      "outputs": [
        {
          "output_type": "stream",
          "name": "stdout",
          "text": [
            "Heath Ledger as the Joker really did a great job on the role, no denying that. Heath Ledger and Christopher Nolan both fit this role much as they did last night, though their performances aren't nearly as powerful as last night.I personally think Ledger's Joker is a good actor, but I think I have to say that Ledger is even worse than his first Batman, and I mean worse. <spoiler> false \n"
          ]
        }
      ]
    },
    {
      "cell_type": "code",
      "source": [
        "topk_list = []\n",
        "for sent in test_sent_list[0:501]:\n",
        "  if len(sent)<=90:\n",
        "    input_id4 = tokenizer.encode(sent, return_tensors='tf')\n",
        "    tf.random.set_seed(6)\n",
        "    topk_output = model.generate(input_id4, do_sample=True, max_length=90, top_k=50)\n",
        "    topk_list.append(tokenizer.decode(topk_output[0], skip_special_tokens=True))\n",
        "len_list = len(topk_list)\n",
        "topk_spoil_alert_counter = 0\n",
        "for elem in topk_list:\n",
        "  if \"<spoiler>\" in elem:\n",
        "    topk_spoil_alert_counter+=1\n",
        "\n",
        "result_topk = topk_spoil_alert_counter/500\n",
        "print(result_topk)"
      ],
      "metadata": {
        "id": "SO98YVPGE5ub"
      },
      "execution_count": null,
      "outputs": []
    },
    {
      "cell_type": "markdown",
      "source": [
        "немного увеличим k:"
      ],
      "metadata": {
        "id": "FJCsYzOm-gMu"
      }
    },
    {
      "cell_type": "code",
      "source": [
        "tf.random.set_seed(5)\n",
        "sample_k_output = model.generate(\n",
        "    input_ids, \n",
        "    do_sample=True, \n",
        "    max_length=90, \n",
        "    top_k=60\n",
        ")\n",
        "\n",
        "print(tokenizer.decode(sample_k_output[0], skip_special_tokens=True))"
      ],
      "metadata": {
        "colab": {
          "base_uri": "https://localhost:8080/"
        },
        "id": "bS1_ym8l94tD",
        "outputId": "6190f8df-0be0-49f7-a735-b14d7974d6cc"
      },
      "execution_count": 80,
      "outputs": [
        {
          "output_type": "stream",
          "name": "stdout",
          "text": [
            "Fargo is one of my favorite films of all time and in my opinion deserves to be in the top 10 films of the 90's. Even though the plot and story is one and the same story as the original, there are some parts that we can understand. The acting and the atmosphere of the film are beautiful and each of them make me feel like I am in such a dream life for the first time ever.The first hour, and two\n"
          ]
        }
      ]
    },
    {
      "cell_type": "code",
      "source": [
        "tf.random.set_seed(5)\n",
        "sample_k_output2 = model.generate(\n",
        "    input_ids2, \n",
        "    do_sample=True, \n",
        "    max_length=90, \n",
        "    top_k=60\n",
        ")\n",
        "\n",
        "print(tokenizer.decode(sample_k_output2[0], skip_special_tokens=True))"
      ],
      "metadata": {
        "colab": {
          "base_uri": "https://localhost:8080/"
        },
        "id": "A6oTr1Y1-Bht",
        "outputId": "3338d1a1-e1fe-4f5f-b976-c34520a5faba"
      },
      "execution_count": 81,
      "outputs": [
        {
          "output_type": "stream",
          "name": "stdout",
          "text": [
            "Heath Ledger as the Joker really did a great job on the role, no denying that. Heath Ledger and Christopher Nolan both fit this role much as they did last night, though their performances aren't nearly as powerful as last night.I personally think Ledger's Joker is a good actor, but I think I have to say that Ledger is even worse than his first Batman, and I mean worse. <spoiler> false \n"
          ]
        }
      ]
    },
    {
      "cell_type": "markdown",
      "source": [
        "уменьшим k:"
      ],
      "metadata": {
        "id": "A1frfG7n-j0y"
      }
    },
    {
      "cell_type": "code",
      "source": [
        "tf.random.set_seed(5)\n",
        "sample_k_output = model.generate(\n",
        "    input_ids, \n",
        "    do_sample=True, \n",
        "    max_length=90, \n",
        "    top_k=30\n",
        ")\n",
        "\n",
        "print(tokenizer.decode(sample_k_output[0], skip_special_tokens=True))"
      ],
      "metadata": {
        "colab": {
          "base_uri": "https://localhost:8080/"
        },
        "id": "nfZgqB5W-Zm9",
        "outputId": "780a333b-c877-4627-f811-11ad04df9591"
      },
      "execution_count": 82,
      "outputs": [
        {
          "output_type": "stream",
          "name": "stdout",
          "text": [
            "Fargo is one of my favorite films of all time and in my opinion deserves to be in the top 10 films of the 90's. Although I didn't like The Usual Suspects for much of the movie I had to give it a chance. However this is a great film, if not a masterpiece for many reasons because of the fact that it has great direction (I found myself in a tense scene on <spoiler> false  I\n"
          ]
        }
      ]
    },
    {
      "cell_type": "code",
      "source": [
        "tf.random.set_seed(5)\n",
        "sample_k_output2 = model.generate(\n",
        "    input_ids2, \n",
        "    do_sample=True, \n",
        "    max_length=90, \n",
        "    top_k=30\n",
        ")\n",
        "\n",
        "print(tokenizer.decode(sample_k_output2[0], skip_special_tokens=True))"
      ],
      "metadata": {
        "colab": {
          "base_uri": "https://localhost:8080/"
        },
        "id": "JXo2Xj_6-Zxf",
        "outputId": "a6f82eaa-a16e-49e2-ab74-fb8106e2fd34"
      },
      "execution_count": 83,
      "outputs": [
        {
          "output_type": "stream",
          "name": "stdout",
          "text": [
            "Heath Ledger as the Joker really did a great job on the role, no denying that. Heath Ledger and Christopher Nolan both had a chance to create something special, and with the support of Nolan, Ledger and Ledger proved they could not do it alone. It was a true accomplishment to see how much more he can do than Ledger. The entire time he was on screen and in the audience I was amazed how he could do\n"
          ]
        }
      ]
    },
    {
      "cell_type": "markdown",
      "source": [
        "Top-p sampling"
      ],
      "metadata": {
        "id": "bDuaJAw_5Pm1"
      }
    },
    {
      "cell_type": "code",
      "source": [
        "tf.random.set_seed(5)\n",
        "sample_p_output = model.generate(\n",
        "    input_ids, \n",
        "    do_sample=True, \n",
        "    max_length=90, \n",
        "    top_p=0.92, \n",
        "    top_k=0\n",
        ")\n",
        "\n",
        "print(tokenizer.decode(sample_p_output[0], skip_special_tokens=True))"
      ],
      "metadata": {
        "colab": {
          "base_uri": "https://localhost:8080/"
        },
        "id": "P2P3sSNV5Rq1",
        "outputId": "b9202bf9-3a8c-4b93-8228-3222b1b3f2e2"
      },
      "execution_count": 86,
      "outputs": [
        {
          "output_type": "stream",
          "name": "stdout",
          "text": [
            "Fargo is one of my favorite films of all time and in my opinion deserves to be in the top 10 films of the 90's. Even though the plot and story is horribly nonsensical this film is as enjoyable to watch as it is controversial to read. You can watch this film over and over and over again for hours. And if you're a fan of any recent PIXAR movie then definitely watch this one. Again, I think most people\n"
          ]
        }
      ]
    },
    {
      "cell_type": "code",
      "source": [
        "tf.random.set_seed(5)\n",
        "sample_p_output2 = model.generate(\n",
        "    input_ids2, \n",
        "    do_sample=True, \n",
        "    max_length=90, \n",
        "    top_p=0.92, \n",
        "    top_k=0\n",
        ")\n",
        "\n",
        "print(tokenizer.decode(sample_p_output2[0], skip_special_tokens=True))"
      ],
      "metadata": {
        "colab": {
          "base_uri": "https://localhost:8080/"
        },
        "id": "ru_ROf305R0q",
        "outputId": "ca666277-66b9-4173-e638-37cdbfc24df2"
      },
      "execution_count": 87,
      "outputs": [
        {
          "output_type": "stream",
          "name": "stdout",
          "text": [
            "Heath Ledger as the Joker really did a great job on the role, no denying that. Heath Ledger and Christopher Nolan both fit this role perfectly as the well-respected, though controversial Joker. The costume for him as well as his cape is a joy to behold. The Joker is so unconventional and creepy that I have never found myself shaking my head even once when he first approaches me and I can see it in his mannerisms - he\n"
          ]
        }
      ]
    },
    {
      "cell_type": "markdown",
      "source": [
        "Повысим p:"
      ],
      "metadata": {
        "id": "YdQ81Cxz_Pps"
      }
    },
    {
      "cell_type": "code",
      "source": [
        "tf.random.set_seed(5)\n",
        "sample_p_output = model.generate(\n",
        "    input_ids, \n",
        "    do_sample=True, \n",
        "    max_length=90, \n",
        "    top_p=0.95, \n",
        "    top_k=0\n",
        ")\n",
        "\n",
        "print(tokenizer.decode(sample_p_output[0], skip_special_tokens=True))"
      ],
      "metadata": {
        "colab": {
          "base_uri": "https://localhost:8080/"
        },
        "id": "DzMEKzwR_SMM",
        "outputId": "fd073d2c-3d7d-4073-8088-63904ed93106"
      },
      "execution_count": 89,
      "outputs": [
        {
          "output_type": "stream",
          "name": "stdout",
          "text": [
            "Fargo is one of my favorite films of all time and in my opinion deserves to be in the top 10 films of the 90's. Even though the plot and story is horribly nonsensical this film is as enjoyable to watch as it is controversial to read. You can watch this film over and over and over again for hours. And if you're a fan of any recent PIXAR movie then definitely watch this one. Again, I think most people\n"
          ]
        }
      ]
    },
    {
      "cell_type": "code",
      "source": [
        "tf.random.set_seed(5)\n",
        "sample_p_output2 = model.generate(\n",
        "    input_ids2, \n",
        "    do_sample=True, \n",
        "    max_length=90, \n",
        "    top_p=0.95, \n",
        "    top_k=0\n",
        ")\n",
        "\n",
        "print(tokenizer.decode(sample_p_output2[0], skip_special_tokens=True))"
      ],
      "metadata": {
        "colab": {
          "base_uri": "https://localhost:8080/"
        },
        "id": "bDM6Beny_coZ",
        "outputId": "23dd3474-d787-47af-bb95-61413bcfa629"
      },
      "execution_count": 90,
      "outputs": [
        {
          "output_type": "stream",
          "name": "stdout",
          "text": [
            "Heath Ledger as the Joker really did a great job on the role, no denying that. Heath Ledger and Christopher Nolan both fit this role perfectly as the well-respected, though controversial Joker we know and loathe him! Yes, the Batman troupe is hurt but because we all know the Joker we all love him because he's good and Batman even makes <spoiler> false  I had an outstanding preview from Indy on pix\n"
          ]
        }
      ]
    },
    {
      "cell_type": "code",
      "source": [
        "topp_list = []\n",
        "for sent in test_sent_list[0:501]:\n",
        "  if len(sent)<=90:\n",
        "    input_id5 = tokenizer.encode(sent, return_tensors='tf')\n",
        "    tf.random.set_seed(6)\n",
        "    topp_output = model.generate(input_id5, max_length=90)\n",
        "    topp_list.append(tokenizer.decode(topp_output[0], skip_special_tokens=True))\n",
        "len_list = len(topp_list)\n",
        "topp_spoil_alert_counter = 0\n",
        "for elem in topp_list:\n",
        "  if \"<spoiler>\" in elem:\n",
        "    topp_spoil_alert_counter+=1\n",
        "\n",
        "result_topp = topp_spoil_alert_counter/500\n",
        "print(result_topp)"
      ],
      "metadata": {
        "id": "MzxmEYuGFtPv"
      },
      "execution_count": null,
      "outputs": []
    },
    {
      "cell_type": "markdown",
      "source": [],
      "metadata": {
        "id": "iGbNKyDs_5VR"
      }
    },
    {
      "cell_type": "code",
      "source": [],
      "metadata": {
        "id": "t6fKLyBN_4hb"
      },
      "execution_count": null,
      "outputs": []
    }
  ]
}